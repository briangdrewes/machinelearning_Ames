{
 "cells": [
  {
   "cell_type": "code",
   "execution_count": 248,
   "id": "8af367a4-67f2-4fcd-a1b1-502b8fb19ccf",
   "metadata": {
    "tags": []
   },
   "outputs": [],
   "source": [
    "%matplotlib inline\n",
    "\n",
    "import numpy as np\n",
    "import pandas as pd\n",
    "import matplotlib.pyplot as plt\n",
    "import seaborn as sns\n",
    "\n",
    "import plotly.graph_objects as go\n",
    "import plotly.io as pio\n",
    "import plotly.express as px\n",
    "\n",
    "from statsmodels.stats.outliers_influence import variance_inflation_factor\n",
    "from statsmodels.tools.tools import add_constant\n",
    "import statsmodels.api as sm\n",
    "from statsmodels.graphics.gofplots import qqplot\n",
    "\n",
    "\n",
    "from sklearn.metrics import r2_score\n",
    "from sklearn.linear_model import LinearRegression\n",
    "from sklearn.metrics import mean_squared_error\n",
    "from sklearn.metrics import make_scorer\n",
    "from sklearn.preprocessing import OneHotEncoder\n",
    "from sklearn.model_selection import train_test_split\n",
    "from sklearn.ensemble import RandomForestRegressor\n",
    "from sklearn.model_selection import cross_val_score, KFold\n",
    "from sklearn.linear_model import Lasso\n",
    "from sklearn.preprocessing import StandardScaler\n",
    "from sklearn.linear_model import Ridge\n",
    "from sklearn.linear_model import ElasticNet\n",
    "\n",
    "import optuna\n",
    "\n",
    "import warnings\n",
    "pd.set_option('display.max_columns', None)\n",
    "warnings.simplefilter(action='ignore', category=FutureWarning)\n",
    "warnings.simplefilter('ignore', pd.errors.SettingWithCopyWarning)\n",
    "warnings.simplefilter(action=\"ignore\", category=pd.errors.PerformanceWarning)\n"
   ]
  },
  {
   "cell_type": "code",
   "execution_count": 221,
   "id": "1910d93f-ee03-481c-af08-cc1cb9c81bcf",
   "metadata": {},
   "outputs": [],
   "source": [
    "train_wOrdinal = pd.read_csv('~/Documents/AmesHousingML/clean_data_ordinal.csv') \n",
    "train_originalCleaned = pd.read_csv('~/Documents/AmesHousingML/clean_data_original.csv') \n",
    "train_wOnlyDummies = pd.read_csv('~/Documents/AmesHousingML/clean_data_dummified.csv') \n",
    "train_wOnlyDummiesNoDrop = pd.read_csv('~/Documents/AmesHousingML/clean_data_dummified_noDrop.csv') "
   ]
  },
  {
   "cell_type": "code",
   "execution_count": 222,
   "id": "acf258a5-dec5-42cd-9881-60cb09d7dd72",
   "metadata": {
    "tags": []
   },
   "outputs": [
    {
     "name": "stdout",
     "output_type": "stream",
     "text": [
      "(2576, 86)\n",
      "(2576, 266)\n",
      "(2576, 86)\n"
     ]
    }
   ],
   "source": [
    "print(train_originalCleaned.shape)\n",
    "print(train_wOnlyDummies.shape)\n",
    "print(train_wOrdinal.shape)"
   ]
  },
  {
   "cell_type": "markdown",
   "id": "50bf75f6-9ac0-4e46-9b95-fa6f1341da48",
   "metadata": {},
   "source": [
    "## Finding & Dealing with Outliers"
   ]
  },
  {
   "cell_type": "code",
   "execution_count": 223,
   "id": "1930a518-503a-4bac-a04c-50934bb1dcdd",
   "metadata": {
    "tags": []
   },
   "outputs": [],
   "source": [
    "outlier_threshold = 3"
   ]
  },
  {
   "cell_type": "code",
   "execution_count": 224,
   "id": "d78fe0f9-6003-4b6b-a380-e766ff20247a",
   "metadata": {
    "tags": []
   },
   "outputs": [],
   "source": [
    "Q1 = train_wOrdinal['SalePrice'].quantile(.25)\n",
    "Q3 = train_wOrdinal['SalePrice'].quantile(.75)\n",
    "IQR = Q3 - Q1\n",
    "new_bounds = Q3 + outlier_threshold * IQR"
   ]
  },
  {
   "cell_type": "code",
   "execution_count": 225,
   "id": "0f57ef26-9af8-463e-bfce-66c0d02075e0",
   "metadata": {
    "tags": []
   },
   "outputs": [],
   "source": [
    "before_outlier_total = train_wOrdinal.count()[1]\n",
    "train_wOrdinal.drop(train_wOrdinal[train_wOrdinal['SalePrice'] > new_bounds].index, axis=0, inplace = True)\n",
    "post_outlier_total = train_wOrdinal.count()[1]"
   ]
  },
  {
   "cell_type": "code",
   "execution_count": 226,
   "id": "92c4ebe9-18f1-4564-a478-87a00cae506a",
   "metadata": {
    "tags": []
   },
   "outputs": [
    {
     "data": {
      "text/plain": [
       "23"
      ]
     },
     "execution_count": 226,
     "metadata": {},
     "output_type": "execute_result"
    }
   ],
   "source": [
    "before_outlier_total - post_outlier_total"
   ]
  },
  {
   "cell_type": "code",
   "execution_count": 227,
   "id": "876b6d95-2aba-4f4a-be14-4d23d2b98f35",
   "metadata": {
    "tags": []
   },
   "outputs": [],
   "source": [
    "Q1 = train_originalCleaned['SalePrice'].quantile(.25)\n",
    "Q3 = train_originalCleaned['SalePrice'].quantile(.75)\n",
    "IQR = Q3 - Q1\n",
    "new_bounds = Q3 + outlier_threshold * IQR"
   ]
  },
  {
   "cell_type": "code",
   "execution_count": 228,
   "id": "ad6c3a22-8600-4570-b695-e7336fc5a8f7",
   "metadata": {
    "tags": []
   },
   "outputs": [],
   "source": [
    "before_outlier_total = train_originalCleaned.count()[1]\n",
    "train_originalCleaned.drop(train_originalCleaned[train_originalCleaned['SalePrice'] > new_bounds].index, axis=0, inplace = True)\n",
    "post_outlier_total = train_originalCleaned.count()[1]"
   ]
  },
  {
   "cell_type": "code",
   "execution_count": 229,
   "id": "af714fe1-2560-4687-a79b-686600dbcf91",
   "metadata": {
    "tags": []
   },
   "outputs": [
    {
     "data": {
      "text/plain": [
       "23"
      ]
     },
     "execution_count": 229,
     "metadata": {},
     "output_type": "execute_result"
    }
   ],
   "source": [
    "before_outlier_total - post_outlier_total"
   ]
  },
  {
   "cell_type": "code",
   "execution_count": 230,
   "id": "90ca370c-ee92-4125-a357-53977ff3386b",
   "metadata": {
    "tags": []
   },
   "outputs": [],
   "source": [
    "Q1 = train_wOnlyDummies['SalePrice'].quantile(.25)\n",
    "Q3 = train_wOnlyDummies['SalePrice'].quantile(.75)\n",
    "IQR = Q3 - Q1\n",
    "new_bounds = Q3 + outlier_threshold * IQR"
   ]
  },
  {
   "cell_type": "code",
   "execution_count": 231,
   "id": "6430cc76-d1b9-42e1-aad4-078ddf5d76a9",
   "metadata": {
    "tags": []
   },
   "outputs": [],
   "source": [
    "before_outlier_total = train_wOnlyDummies.count()[1]\n",
    "train_wOnlyDummies.drop(train_wOnlyDummies[train_wOnlyDummies['SalePrice'] > new_bounds].index, axis=0, inplace = True)\n",
    "post_outlier_total = train_wOnlyDummies.count()[1]"
   ]
  },
  {
   "cell_type": "code",
   "execution_count": 232,
   "id": "5796e25e-e140-4354-9d73-8d5becb45923",
   "metadata": {
    "tags": []
   },
   "outputs": [
    {
     "data": {
      "text/plain": [
       "23"
      ]
     },
     "execution_count": 232,
     "metadata": {},
     "output_type": "execute_result"
    }
   ],
   "source": [
    "before_outlier_total - post_outlier_total"
   ]
  },
  {
   "cell_type": "code",
   "execution_count": 233,
   "id": "8dac38dc-c2a1-4699-b145-84fe9fdcc9e7",
   "metadata": {
    "tags": []
   },
   "outputs": [],
   "source": [
    "Q1 = train_wOnlyDummiesNoDrop['SalePrice'].quantile(.25)\n",
    "Q3 = train_wOnlyDummiesNoDrop['SalePrice'].quantile(.75)\n",
    "IQR = Q3 - Q1\n",
    "new_bounds = Q3 + outlier_threshold * IQR"
   ]
  },
  {
   "cell_type": "code",
   "execution_count": 234,
   "id": "53aa6a15-960b-461a-941e-1e4c1ceeca73",
   "metadata": {
    "tags": []
   },
   "outputs": [],
   "source": [
    "before_outlier_total = train_wOnlyDummiesNoDrop.count()[1]\n",
    "train_wOnlyDummiesNoDrop.drop(train_wOnlyDummiesNoDrop[train_wOnlyDummiesNoDrop['SalePrice'] > new_bounds].index, axis=0, inplace = True)\n",
    "post_outlier_total = train_wOnlyDummiesNoDrop.count()[1]"
   ]
  },
  {
   "cell_type": "code",
   "execution_count": 235,
   "id": "0ac98246-fa3b-484f-9e3b-1eae9ad5d80d",
   "metadata": {
    "tags": []
   },
   "outputs": [
    {
     "data": {
      "text/plain": [
       "23"
      ]
     },
     "execution_count": 235,
     "metadata": {},
     "output_type": "execute_result"
    }
   ],
   "source": [
    "before_outlier_total - post_outlier_total"
   ]
  },
  {
   "cell_type": "code",
   "execution_count": 245,
   "id": "286f4f78-1d27-42e5-a865-6b7e02b89475",
   "metadata": {
    "tags": []
   },
   "outputs": [],
   "source": [
    "# masterScores = pd.DataFrame(columns = ['Model', 'r2_score'])"
   ]
  },
  {
   "cell_type": "code",
   "execution_count": 236,
   "id": "8251f028-3cf7-421f-97cd-87ccfb9a0902",
   "metadata": {
    "tags": []
   },
   "outputs": [],
   "source": [
    "ourFrames = [train_wOrdinal, train_wOnlyDummies, train_wOnlyDummiesNoDrop]"
   ]
  },
  {
   "cell_type": "code",
   "execution_count": 237,
   "id": "a736bce3-7051-4f8e-9138-7b660d77ef06",
   "metadata": {},
   "outputs": [],
   "source": [
    "for frame in ourFrames:\n",
    "    frame = frame.drop('PID', axis=1)"
   ]
  },
  {
   "cell_type": "code",
   "execution_count": 254,
   "id": "8d0d2f4a-34c5-4fec-b0e6-17f79358085b",
   "metadata": {
    "tags": []
   },
   "outputs": [],
   "source": [
    "masterScores = pd.DataFrame(columns = ['Model', 'r2_5kf_mean', 'rmse_5kf_mean'])"
   ]
  },
  {
   "cell_type": "code",
   "execution_count": 252,
   "id": "d935d46a-703c-4fd0-bb46-7e7c5d0a32fb",
   "metadata": {
    "tags": []
   },
   "outputs": [
    {
     "name": "stdout",
     "output_type": "stream",
     "text": [
      "R-squared on the test set: 0.9071261258067371\n",
      "Mean Squared Error on the test set: 447554387.08315355\n",
      "Root Mean Squared Error (RMSE) on the test set: 21155.481253877293\n",
      "\n",
      "Feature Importances:\n",
      "            Feature  Importance\n",
      "81    HighQualFinSF    0.300430\n",
      "18      OverallQual    0.228609\n",
      "76     TotalHouseSF    0.217301\n",
      "20        YearBuilt    0.048260\n",
      "79  YearAndRemodAvg    0.013870\n",
      "..              ...         ...\n",
      "7             Alley    0.000097\n",
      "69        3SsnPorch    0.000093\n",
      "46     LowQualFinSF    0.000006\n",
      "10        Utilities    0.000004\n",
      "6            Street    0.000002\n",
      "\n",
      "[85 rows x 2 columns]\n",
      "Cross-Validation Scores Rsquared: [0.90436372 0.89616602 0.9219125  0.90709789 0.87398736] \n",
      "\n",
      "Cross-Validation Scores RMSE: [21467.7964974  22268.40726794 18648.40892012 20365.62376334\n",
      " 22397.75698669] \n",
      "\n",
      "Mean R^2: 0.9007054964836751 \n",
      "\n",
      "Standard Deviation R^2: 0.015738155524322794 \n",
      "\n",
      "Mean RMSE: 21029.598687098645\n",
      "\n",
      "\n",
      "\n",
      "\n",
      "\n",
      "\n",
      "R-squared on the test set: 0.902995393966292\n",
      "Mean Squared Error on the test set: 467460169.77084655\n",
      "Root Mean Squared Error (RMSE) on the test set: 21620.827222168133\n",
      "\n",
      "Feature Importances:\n",
      "                Feature    Importance\n",
      "261       HighQualFinSF  2.894924e-01\n",
      "5           OverallQual  2.310097e-01\n",
      "256        TotalHouseSF  2.281919e-01\n",
      "7             YearBuilt  4.810603e-02\n",
      "8          YearRemodAdd  1.427483e-02\n",
      "..                  ...           ...\n",
      "249        SaleType_VWD  1.863838e-10\n",
      "122  Exterior1st_CBlock  0.000000e+00\n",
      "113    RoofMatl_Membran  0.000000e+00\n",
      "95      Condition2_RRAn  0.000000e+00\n",
      "210      Functional_Sal  0.000000e+00\n",
      "\n",
      "[265 rows x 2 columns]\n",
      "Cross-Validation Scores Rsquared: [0.90349326 0.89391278 0.91887038 0.90369714 0.8697502 ] \n",
      "\n",
      "Cross-Validation Scores RMSE: [21565.2724669  22508.72684557 19008.18917816 20735.02263375\n",
      " 22771.20496352] \n",
      "\n",
      "Mean R^2: 0.8979447514875437 \n",
      "\n",
      "Standard Deviation R^2: 0.016204612506476843 \n",
      "\n",
      "Mean RMSE: 21317.683217581107\n",
      "\n",
      "\n",
      "\n",
      "\n",
      "\n",
      "\n",
      "R-squared on the test set: 0.9037145759935686\n",
      "Mean Squared Error on the test set: 463994468.8488717\n",
      "Root Mean Squared Error (RMSE) on the test set: 21540.53083953299\n",
      "\n",
      "Feature Importances:\n",
      "                Feature  Importance\n",
      "302       HighQualFinSF    0.276322\n",
      "297        TotalHouseSF    0.241070\n",
      "5           OverallQual    0.230282\n",
      "7             YearBuilt    0.047775\n",
      "8          YearRemodAdd    0.014050\n",
      "..                  ...         ...\n",
      "138  Exterior1st_CBlock    0.000000\n",
      "130       RoofMatl_Roll    0.000000\n",
      "242      Functional_Sal    0.000000\n",
      "35     MSZoning_A (agr)    0.000000\n",
      "129      RoofMatl_Metal    0.000000\n",
      "\n",
      "[306 rows x 2 columns]\n",
      "Cross-Validation Scores Rsquared: [0.90256257 0.8942781  0.91984654 0.90552973 0.87225279] \n",
      "\n",
      "Cross-Validation Scores RMSE: [21669.00878194 22469.93752337 18893.48857407 20536.78701826\n",
      " 22551.38383334] \n",
      "\n",
      "Mean R^2: 0.8988939457555052 \n",
      "\n",
      "Standard Deviation R^2: 0.015668828895292808 \n",
      "\n",
      "Mean RMSE: 21224.121146194622\n",
      "\n",
      "\n",
      "\n",
      "\n",
      "\n",
      "\n"
     ]
    }
   ],
   "source": [
    "for frame in ourFrames:\n",
    "    #the features will be X (independent variables)\n",
    "    X = frame.drop('SalePrice', axis=1)\n",
    "    X_array = X.values\n",
    "    #the target (dependent variable) will be y\n",
    "    y = frame['SalePrice']\n",
    "    y_array = y.values\n",
    "\n",
    "    #Split your training and testing sets of data\n",
    "    X_train, X_test, y_train, y_test = train_test_split(X, y, test_size=0.2, random_state=42)\n",
    "\n",
    "    # Create a Random Forest Regressor\n",
    "    rf_model = RandomForestRegressor(n_estimators=100, random_state=42)  # You can adjust n_estimators as needed\n",
    "\n",
    "    # Train the model on the training set\n",
    "    rf_model.fit(X_train, y_train)\n",
    "\n",
    "    # Make predictions on the test set\n",
    "    rf_y_pred = rf_model.predict(X_test)\n",
    "\n",
    "    # Evaluate the Random Forest model\n",
    "    rf_r2 = r2_score(y_test, rf_y_pred)\n",
    "    print(f'R-squared on the test set: {rf_r2}')\n",
    "\n",
    "    rf_mse = mean_squared_error(y_test, rf_y_pred)\n",
    "    print(f'Mean Squared Error on the test set: {rf_mse}')\n",
    "\n",
    "    # Root Mean Squared Error (RMSE) on the test set\n",
    "    rf_rmse = mean_squared_error(y_test, rf_y_pred, squared=False)\n",
    "    print(\"Root Mean Squared Error (RMSE) on the test set:\", rf_rmse)\n",
    "\n",
    "    # Display feature importances\n",
    "    feature_importances = pd.DataFrame({'Feature': X.columns, 'Importance': rf_model.feature_importances_})\n",
    "    feature_importances = feature_importances.sort_values(by='Importance', ascending=False)\n",
    "    print('\\nFeature Importances:')\n",
    "    print(feature_importances)\n",
    "    # feat_importances = pd.Series(rf_model.feature_importances_, index=X.columns)\n",
    "    # feat_importances.nlargest(20).plot(kind='barh')\n",
    "    \n",
    "    # Create a KFold object\n",
    "    kf = KFold(n_splits=5, shuffle=True, random_state=42)\n",
    "\n",
    "    # Perform cross-validation\n",
    "    cv_scores = cross_val_score(rf_model, X, y, cv=kf, scoring='r2')\n",
    "    # You can replace 'r2' with other scoring metrics like 'neg_mean_squared_error', etc.\n",
    "    # Define the custom scoring function for RMSE\n",
    "    def rmse_scorer(y_true, y_pred):\n",
    "        mse = mean_squared_error(y_true, y_pred)\n",
    "        rmse = np.sqrt(mse)\n",
    "        return rmse\n",
    "    \n",
    "    \n",
    "    # Define the scoring function using neg_mean_squared_error\n",
    "    scorer = make_scorer(rmse_scorer)\n",
    "    # Use cross_val_score with the defined scorer\n",
    "    rmse_scores = cross_val_score(rf_model, X, y, cv=kf, scoring=scorer)\n",
    "\n",
    "    \n",
    "\n",
    "    # Display the cross-validation scores\n",
    "    print(\"Cross-Validation Scores Rsquared:\", cv_scores, '\\n')\n",
    "    print(\"Cross-Validation Scores RMSE:\", rmse_scores, '\\n')\n",
    "\n",
    "    # Print the mean and standard deviation of the scores\n",
    "    print(f\"Mean R^2: {cv_scores.mean()}\", '\\n')\n",
    "    print(f\"Standard Deviation R^2: {cv_scores.std()}\", '\\n')\n",
    "    print(f\"Mean RMSE: {rmse_scores.mean()}\")\n",
    "    \n",
    "    print('\\n')\n",
    "    print('\\n')\n",
    "    print('\\n')\n",
    "    \n",
    "    "
   ]
  },
  {
   "cell_type": "code",
   "execution_count": 239,
   "id": "522aab62-9f76-4799-85f1-7221584a0a57",
   "metadata": {
    "tags": []
   },
   "outputs": [
    {
     "data": {
      "text/html": [
       "<div>\n",
       "<style scoped>\n",
       "    .dataframe tbody tr th:only-of-type {\n",
       "        vertical-align: middle;\n",
       "    }\n",
       "\n",
       "    .dataframe tbody tr th {\n",
       "        vertical-align: top;\n",
       "    }\n",
       "\n",
       "    .dataframe thead th {\n",
       "        text-align: right;\n",
       "    }\n",
       "</style>\n",
       "<table border=\"1\" class=\"dataframe\">\n",
       "  <thead>\n",
       "    <tr style=\"text-align: right;\">\n",
       "      <th></th>\n",
       "      <th>PID</th>\n",
       "      <th>GrLivArea</th>\n",
       "      <th>SalePrice</th>\n",
       "      <th>MSSubClass</th>\n",
       "      <th>MSZoning</th>\n",
       "      <th>LotFrontage</th>\n",
       "      <th>LotArea</th>\n",
       "      <th>Street</th>\n",
       "      <th>Alley</th>\n",
       "      <th>LotShape</th>\n",
       "      <th>LandContour</th>\n",
       "      <th>Utilities</th>\n",
       "      <th>LotConfig</th>\n",
       "      <th>LandSlope</th>\n",
       "      <th>Neighborhood</th>\n",
       "      <th>Condition1</th>\n",
       "      <th>Condition2</th>\n",
       "      <th>BldgType</th>\n",
       "      <th>HouseStyle</th>\n",
       "      <th>OverallQual</th>\n",
       "      <th>OverallCond</th>\n",
       "      <th>YearBuilt</th>\n",
       "      <th>YearRemodAdd</th>\n",
       "      <th>RoofStyle</th>\n",
       "      <th>RoofMatl</th>\n",
       "      <th>Exterior1st</th>\n",
       "      <th>Exterior2nd</th>\n",
       "      <th>MasVnrType</th>\n",
       "      <th>MasVnrArea</th>\n",
       "      <th>ExterQual</th>\n",
       "      <th>ExterCond</th>\n",
       "      <th>Foundation</th>\n",
       "      <th>BsmtQual</th>\n",
       "      <th>BsmtCond</th>\n",
       "      <th>BsmtExposure</th>\n",
       "      <th>BsmtFinType1</th>\n",
       "      <th>BsmtFinSF1</th>\n",
       "      <th>BsmtFinType2</th>\n",
       "      <th>BsmtFinSF2</th>\n",
       "      <th>BsmtUnfSF</th>\n",
       "      <th>TotalBsmtSF</th>\n",
       "      <th>Heating</th>\n",
       "      <th>HeatingQC</th>\n",
       "      <th>CentralAir</th>\n",
       "      <th>Electrical</th>\n",
       "      <th>1stFlrSF</th>\n",
       "      <th>2ndFlrSF</th>\n",
       "      <th>LowQualFinSF</th>\n",
       "      <th>BsmtFullBath</th>\n",
       "      <th>BsmtHalfBath</th>\n",
       "      <th>FullBath</th>\n",
       "      <th>HalfBath</th>\n",
       "      <th>BedroomAbvGr</th>\n",
       "      <th>KitchenAbvGr</th>\n",
       "      <th>KitchenQual</th>\n",
       "      <th>TotRmsAbvGrd</th>\n",
       "      <th>Functional</th>\n",
       "      <th>Fireplaces</th>\n",
       "      <th>FireplaceQu</th>\n",
       "      <th>GarageType</th>\n",
       "      <th>GarageYrBlt</th>\n",
       "      <th>GarageFinish</th>\n",
       "      <th>GarageCars</th>\n",
       "      <th>GarageArea</th>\n",
       "      <th>GarageQual</th>\n",
       "      <th>GarageCond</th>\n",
       "      <th>PavedDrive</th>\n",
       "      <th>WoodDeckSF</th>\n",
       "      <th>OpenPorchSF</th>\n",
       "      <th>EnclosedPorch</th>\n",
       "      <th>3SsnPorch</th>\n",
       "      <th>ScreenPorch</th>\n",
       "      <th>Fence</th>\n",
       "      <th>MoSold</th>\n",
       "      <th>YrSold</th>\n",
       "      <th>SaleType</th>\n",
       "      <th>SaleCondition</th>\n",
       "      <th>TotalHouseSF</th>\n",
       "      <th>TotalBathroomCount</th>\n",
       "      <th>QualityOutdoorSF</th>\n",
       "      <th>YearAndRemodAvg</th>\n",
       "      <th>NonHouseSF</th>\n",
       "      <th>HighQualFinSF</th>\n",
       "      <th>HouseLotRatio</th>\n",
       "      <th>FrontageLotRatio</th>\n",
       "      <th>QualityOutdoorLotRatio</th>\n",
       "    </tr>\n",
       "  </thead>\n",
       "  <tbody>\n",
       "    <tr>\n",
       "      <th>0</th>\n",
       "      <td>909176150</td>\n",
       "      <td>856</td>\n",
       "      <td>126000</td>\n",
       "      <td>30</td>\n",
       "      <td>5</td>\n",
       "      <td>60.0</td>\n",
       "      <td>7890</td>\n",
       "      <td>1</td>\n",
       "      <td>1</td>\n",
       "      <td>3</td>\n",
       "      <td>3</td>\n",
       "      <td>0</td>\n",
       "      <td>0</td>\n",
       "      <td>0</td>\n",
       "      <td>19</td>\n",
       "      <td>2</td>\n",
       "      <td>2</td>\n",
       "      <td>0</td>\n",
       "      <td>2</td>\n",
       "      <td>6</td>\n",
       "      <td>6</td>\n",
       "      <td>1939</td>\n",
       "      <td>1950</td>\n",
       "      <td>1</td>\n",
       "      <td>0</td>\n",
       "      <td>13</td>\n",
       "      <td>14</td>\n",
       "      <td>2</td>\n",
       "      <td>0.0</td>\n",
       "      <td>3</td>\n",
       "      <td>3</td>\n",
       "      <td>1</td>\n",
       "      <td>4</td>\n",
       "      <td>4</td>\n",
       "      <td>2</td>\n",
       "      <td>3</td>\n",
       "      <td>238.0</td>\n",
       "      <td>1</td>\n",
       "      <td>0.0</td>\n",
       "      <td>618.0</td>\n",
       "      <td>856.0</td>\n",
       "      <td>1</td>\n",
       "      <td>3</td>\n",
       "      <td>1</td>\n",
       "      <td>3</td>\n",
       "      <td>856</td>\n",
       "      <td>0</td>\n",
       "      <td>0</td>\n",
       "      <td>1.0</td>\n",
       "      <td>0.0</td>\n",
       "      <td>1</td>\n",
       "      <td>0</td>\n",
       "      <td>2</td>\n",
       "      <td>1</td>\n",
       "      <td>3</td>\n",
       "      <td>4</td>\n",
       "      <td>6</td>\n",
       "      <td>1</td>\n",
       "      <td>5</td>\n",
       "      <td>5</td>\n",
       "      <td>1939.0</td>\n",
       "      <td>1</td>\n",
       "      <td>2.0</td>\n",
       "      <td>399.0</td>\n",
       "      <td>4</td>\n",
       "      <td>4</td>\n",
       "      <td>2</td>\n",
       "      <td>0</td>\n",
       "      <td>0</td>\n",
       "      <td>0</td>\n",
       "      <td>0</td>\n",
       "      <td>166</td>\n",
       "      <td>1</td>\n",
       "      <td>3</td>\n",
       "      <td>2010</td>\n",
       "      <td>9</td>\n",
       "      <td>4</td>\n",
       "      <td>1712.0</td>\n",
       "      <td>2.0</td>\n",
       "      <td>166</td>\n",
       "      <td>1944.5</td>\n",
       "      <td>-6178.0</td>\n",
       "      <td>1712.0</td>\n",
       "      <td>21.698352</td>\n",
       "      <td>0.760456</td>\n",
       "      <td>2.103929</td>\n",
       "    </tr>\n",
       "    <tr>\n",
       "      <th>1</th>\n",
       "      <td>905476230</td>\n",
       "      <td>1049</td>\n",
       "      <td>139500</td>\n",
       "      <td>120</td>\n",
       "      <td>5</td>\n",
       "      <td>42.0</td>\n",
       "      <td>4235</td>\n",
       "      <td>1</td>\n",
       "      <td>1</td>\n",
       "      <td>3</td>\n",
       "      <td>3</td>\n",
       "      <td>0</td>\n",
       "      <td>4</td>\n",
       "      <td>0</td>\n",
       "      <td>7</td>\n",
       "      <td>2</td>\n",
       "      <td>2</td>\n",
       "      <td>4</td>\n",
       "      <td>2</td>\n",
       "      <td>5</td>\n",
       "      <td>5</td>\n",
       "      <td>1984</td>\n",
       "      <td>1984</td>\n",
       "      <td>1</td>\n",
       "      <td>0</td>\n",
       "      <td>6</td>\n",
       "      <td>6</td>\n",
       "      <td>1</td>\n",
       "      <td>149.0</td>\n",
       "      <td>4</td>\n",
       "      <td>3</td>\n",
       "      <td>1</td>\n",
       "      <td>5</td>\n",
       "      <td>4</td>\n",
       "      <td>3</td>\n",
       "      <td>3</td>\n",
       "      <td>552.0</td>\n",
       "      <td>2</td>\n",
       "      <td>393.0</td>\n",
       "      <td>104.0</td>\n",
       "      <td>1049.0</td>\n",
       "      <td>1</td>\n",
       "      <td>3</td>\n",
       "      <td>1</td>\n",
       "      <td>3</td>\n",
       "      <td>1049</td>\n",
       "      <td>0</td>\n",
       "      <td>0</td>\n",
       "      <td>1.0</td>\n",
       "      <td>0.0</td>\n",
       "      <td>2</td>\n",
       "      <td>0</td>\n",
       "      <td>2</td>\n",
       "      <td>1</td>\n",
       "      <td>4</td>\n",
       "      <td>5</td>\n",
       "      <td>6</td>\n",
       "      <td>0</td>\n",
       "      <td>1</td>\n",
       "      <td>1</td>\n",
       "      <td>1984.0</td>\n",
       "      <td>3</td>\n",
       "      <td>1.0</td>\n",
       "      <td>266.0</td>\n",
       "      <td>4</td>\n",
       "      <td>4</td>\n",
       "      <td>2</td>\n",
       "      <td>0</td>\n",
       "      <td>105</td>\n",
       "      <td>0</td>\n",
       "      <td>0</td>\n",
       "      <td>0</td>\n",
       "      <td>1</td>\n",
       "      <td>2</td>\n",
       "      <td>2009</td>\n",
       "      <td>9</td>\n",
       "      <td>4</td>\n",
       "      <td>2098.0</td>\n",
       "      <td>3.0</td>\n",
       "      <td>105</td>\n",
       "      <td>1984.0</td>\n",
       "      <td>-2137.0</td>\n",
       "      <td>2098.0</td>\n",
       "      <td>49.539551</td>\n",
       "      <td>0.991736</td>\n",
       "      <td>2.479339</td>\n",
       "    </tr>\n",
       "    <tr>\n",
       "      <th>2</th>\n",
       "      <td>911128020</td>\n",
       "      <td>1001</td>\n",
       "      <td>124900</td>\n",
       "      <td>30</td>\n",
       "      <td>1</td>\n",
       "      <td>60.0</td>\n",
       "      <td>6060</td>\n",
       "      <td>1</td>\n",
       "      <td>1</td>\n",
       "      <td>3</td>\n",
       "      <td>3</td>\n",
       "      <td>0</td>\n",
       "      <td>4</td>\n",
       "      <td>0</td>\n",
       "      <td>10</td>\n",
       "      <td>2</td>\n",
       "      <td>2</td>\n",
       "      <td>0</td>\n",
       "      <td>2</td>\n",
       "      <td>5</td>\n",
       "      <td>9</td>\n",
       "      <td>1930</td>\n",
       "      <td>2007</td>\n",
       "      <td>3</td>\n",
       "      <td>0</td>\n",
       "      <td>8</td>\n",
       "      <td>8</td>\n",
       "      <td>2</td>\n",
       "      <td>0.0</td>\n",
       "      <td>4</td>\n",
       "      <td>3</td>\n",
       "      <td>0</td>\n",
       "      <td>4</td>\n",
       "      <td>4</td>\n",
       "      <td>2</td>\n",
       "      <td>2</td>\n",
       "      <td>737.0</td>\n",
       "      <td>1</td>\n",
       "      <td>0.0</td>\n",
       "      <td>100.0</td>\n",
       "      <td>837.0</td>\n",
       "      <td>1</td>\n",
       "      <td>5</td>\n",
       "      <td>1</td>\n",
       "      <td>3</td>\n",
       "      <td>1001</td>\n",
       "      <td>0</td>\n",
       "      <td>0</td>\n",
       "      <td>0.0</td>\n",
       "      <td>0.0</td>\n",
       "      <td>1</td>\n",
       "      <td>0</td>\n",
       "      <td>2</td>\n",
       "      <td>1</td>\n",
       "      <td>4</td>\n",
       "      <td>5</td>\n",
       "      <td>6</td>\n",
       "      <td>0</td>\n",
       "      <td>1</td>\n",
       "      <td>5</td>\n",
       "      <td>1930.0</td>\n",
       "      <td>1</td>\n",
       "      <td>1.0</td>\n",
       "      <td>216.0</td>\n",
       "      <td>4</td>\n",
       "      <td>2</td>\n",
       "      <td>0</td>\n",
       "      <td>154</td>\n",
       "      <td>0</td>\n",
       "      <td>42</td>\n",
       "      <td>86</td>\n",
       "      <td>0</td>\n",
       "      <td>1</td>\n",
       "      <td>11</td>\n",
       "      <td>2007</td>\n",
       "      <td>9</td>\n",
       "      <td>4</td>\n",
       "      <td>1838.0</td>\n",
       "      <td>1.0</td>\n",
       "      <td>282</td>\n",
       "      <td>1968.5</td>\n",
       "      <td>-4222.0</td>\n",
       "      <td>1838.0</td>\n",
       "      <td>30.330033</td>\n",
       "      <td>0.990099</td>\n",
       "      <td>4.653465</td>\n",
       "    </tr>\n",
       "    <tr>\n",
       "      <th>3</th>\n",
       "      <td>535377150</td>\n",
       "      <td>1039</td>\n",
       "      <td>114000</td>\n",
       "      <td>70</td>\n",
       "      <td>5</td>\n",
       "      <td>80.0</td>\n",
       "      <td>8146</td>\n",
       "      <td>1</td>\n",
       "      <td>1</td>\n",
       "      <td>3</td>\n",
       "      <td>3</td>\n",
       "      <td>0</td>\n",
       "      <td>0</td>\n",
       "      <td>0</td>\n",
       "      <td>18</td>\n",
       "      <td>2</td>\n",
       "      <td>2</td>\n",
       "      <td>0</td>\n",
       "      <td>5</td>\n",
       "      <td>4</td>\n",
       "      <td>8</td>\n",
       "      <td>1900</td>\n",
       "      <td>2003</td>\n",
       "      <td>1</td>\n",
       "      <td>0</td>\n",
       "      <td>8</td>\n",
       "      <td>8</td>\n",
       "      <td>2</td>\n",
       "      <td>0.0</td>\n",
       "      <td>4</td>\n",
       "      <td>4</td>\n",
       "      <td>0</td>\n",
       "      <td>3</td>\n",
       "      <td>4</td>\n",
       "      <td>2</td>\n",
       "      <td>1</td>\n",
       "      <td>0.0</td>\n",
       "      <td>1</td>\n",
       "      <td>0.0</td>\n",
       "      <td>405.0</td>\n",
       "      <td>405.0</td>\n",
       "      <td>1</td>\n",
       "      <td>4</td>\n",
       "      <td>1</td>\n",
       "      <td>3</td>\n",
       "      <td>717</td>\n",
       "      <td>322</td>\n",
       "      <td>0</td>\n",
       "      <td>0.0</td>\n",
       "      <td>0.0</td>\n",
       "      <td>1</td>\n",
       "      <td>0</td>\n",
       "      <td>2</td>\n",
       "      <td>1</td>\n",
       "      <td>3</td>\n",
       "      <td>6</td>\n",
       "      <td>6</td>\n",
       "      <td>0</td>\n",
       "      <td>1</td>\n",
       "      <td>5</td>\n",
       "      <td>1940.0</td>\n",
       "      <td>1</td>\n",
       "      <td>1.0</td>\n",
       "      <td>281.0</td>\n",
       "      <td>4</td>\n",
       "      <td>4</td>\n",
       "      <td>0</td>\n",
       "      <td>0</td>\n",
       "      <td>0</td>\n",
       "      <td>168</td>\n",
       "      <td>0</td>\n",
       "      <td>111</td>\n",
       "      <td>1</td>\n",
       "      <td>5</td>\n",
       "      <td>2009</td>\n",
       "      <td>9</td>\n",
       "      <td>4</td>\n",
       "      <td>1444.0</td>\n",
       "      <td>1.0</td>\n",
       "      <td>279</td>\n",
       "      <td>1951.5</td>\n",
       "      <td>-6702.0</td>\n",
       "      <td>1444.0</td>\n",
       "      <td>17.726492</td>\n",
       "      <td>0.982077</td>\n",
       "      <td>3.424994</td>\n",
       "    </tr>\n",
       "    <tr>\n",
       "      <th>4</th>\n",
       "      <td>534177230</td>\n",
       "      <td>1665</td>\n",
       "      <td>227000</td>\n",
       "      <td>60</td>\n",
       "      <td>5</td>\n",
       "      <td>70.0</td>\n",
       "      <td>8400</td>\n",
       "      <td>1</td>\n",
       "      <td>1</td>\n",
       "      <td>3</td>\n",
       "      <td>3</td>\n",
       "      <td>0</td>\n",
       "      <td>4</td>\n",
       "      <td>0</td>\n",
       "      <td>15</td>\n",
       "      <td>2</td>\n",
       "      <td>2</td>\n",
       "      <td>0</td>\n",
       "      <td>5</td>\n",
       "      <td>8</td>\n",
       "      <td>6</td>\n",
       "      <td>2001</td>\n",
       "      <td>2001</td>\n",
       "      <td>1</td>\n",
       "      <td>0</td>\n",
       "      <td>12</td>\n",
       "      <td>13</td>\n",
       "      <td>2</td>\n",
       "      <td>0.0</td>\n",
       "      <td>4</td>\n",
       "      <td>3</td>\n",
       "      <td>2</td>\n",
       "      <td>5</td>\n",
       "      <td>4</td>\n",
       "      <td>2</td>\n",
       "      <td>3</td>\n",
       "      <td>643.0</td>\n",
       "      <td>1</td>\n",
       "      <td>0.0</td>\n",
       "      <td>167.0</td>\n",
       "      <td>810.0</td>\n",
       "      <td>1</td>\n",
       "      <td>5</td>\n",
       "      <td>1</td>\n",
       "      <td>3</td>\n",
       "      <td>810</td>\n",
       "      <td>855</td>\n",
       "      <td>0</td>\n",
       "      <td>1.0</td>\n",
       "      <td>0.0</td>\n",
       "      <td>2</td>\n",
       "      <td>1</td>\n",
       "      <td>3</td>\n",
       "      <td>1</td>\n",
       "      <td>4</td>\n",
       "      <td>6</td>\n",
       "      <td>6</td>\n",
       "      <td>0</td>\n",
       "      <td>1</td>\n",
       "      <td>1</td>\n",
       "      <td>2001.0</td>\n",
       "      <td>3</td>\n",
       "      <td>2.0</td>\n",
       "      <td>528.0</td>\n",
       "      <td>4</td>\n",
       "      <td>4</td>\n",
       "      <td>2</td>\n",
       "      <td>0</td>\n",
       "      <td>45</td>\n",
       "      <td>0</td>\n",
       "      <td>0</td>\n",
       "      <td>0</td>\n",
       "      <td>1</td>\n",
       "      <td>11</td>\n",
       "      <td>2009</td>\n",
       "      <td>9</td>\n",
       "      <td>4</td>\n",
       "      <td>2475.0</td>\n",
       "      <td>3.5</td>\n",
       "      <td>45</td>\n",
       "      <td>2001.0</td>\n",
       "      <td>-5925.0</td>\n",
       "      <td>2475.0</td>\n",
       "      <td>29.464286</td>\n",
       "      <td>0.833333</td>\n",
       "      <td>0.535714</td>\n",
       "    </tr>\n",
       "  </tbody>\n",
       "</table>\n",
       "</div>"
      ],
      "text/plain": [
       "         PID  GrLivArea  SalePrice  MSSubClass  MSZoning  LotFrontage  \\\n",
       "0  909176150        856     126000          30         5         60.0   \n",
       "1  905476230       1049     139500         120         5         42.0   \n",
       "2  911128020       1001     124900          30         1         60.0   \n",
       "3  535377150       1039     114000          70         5         80.0   \n",
       "4  534177230       1665     227000          60         5         70.0   \n",
       "\n",
       "   LotArea  Street  Alley  LotShape  LandContour  Utilities  LotConfig  \\\n",
       "0     7890       1      1         3            3          0          0   \n",
       "1     4235       1      1         3            3          0          4   \n",
       "2     6060       1      1         3            3          0          4   \n",
       "3     8146       1      1         3            3          0          0   \n",
       "4     8400       1      1         3            3          0          4   \n",
       "\n",
       "   LandSlope  Neighborhood  Condition1  Condition2  BldgType  HouseStyle  \\\n",
       "0          0            19           2           2         0           2   \n",
       "1          0             7           2           2         4           2   \n",
       "2          0            10           2           2         0           2   \n",
       "3          0            18           2           2         0           5   \n",
       "4          0            15           2           2         0           5   \n",
       "\n",
       "   OverallQual  OverallCond  YearBuilt  YearRemodAdd  RoofStyle  RoofMatl  \\\n",
       "0            6            6       1939          1950          1         0   \n",
       "1            5            5       1984          1984          1         0   \n",
       "2            5            9       1930          2007          3         0   \n",
       "3            4            8       1900          2003          1         0   \n",
       "4            8            6       2001          2001          1         0   \n",
       "\n",
       "   Exterior1st  Exterior2nd  MasVnrType  MasVnrArea  ExterQual  ExterCond  \\\n",
       "0           13           14           2         0.0          3          3   \n",
       "1            6            6           1       149.0          4          3   \n",
       "2            8            8           2         0.0          4          3   \n",
       "3            8            8           2         0.0          4          4   \n",
       "4           12           13           2         0.0          4          3   \n",
       "\n",
       "   Foundation  BsmtQual  BsmtCond  BsmtExposure  BsmtFinType1  BsmtFinSF1  \\\n",
       "0           1         4         4             2             3       238.0   \n",
       "1           1         5         4             3             3       552.0   \n",
       "2           0         4         4             2             2       737.0   \n",
       "3           0         3         4             2             1         0.0   \n",
       "4           2         5         4             2             3       643.0   \n",
       "\n",
       "   BsmtFinType2  BsmtFinSF2  BsmtUnfSF  TotalBsmtSF  Heating  HeatingQC  \\\n",
       "0             1         0.0      618.0        856.0        1          3   \n",
       "1             2       393.0      104.0       1049.0        1          3   \n",
       "2             1         0.0      100.0        837.0        1          5   \n",
       "3             1         0.0      405.0        405.0        1          4   \n",
       "4             1         0.0      167.0        810.0        1          5   \n",
       "\n",
       "   CentralAir  Electrical  1stFlrSF  2ndFlrSF  LowQualFinSF  BsmtFullBath  \\\n",
       "0           1           3       856         0             0           1.0   \n",
       "1           1           3      1049         0             0           1.0   \n",
       "2           1           3      1001         0             0           0.0   \n",
       "3           1           3       717       322             0           0.0   \n",
       "4           1           3       810       855             0           1.0   \n",
       "\n",
       "   BsmtHalfBath  FullBath  HalfBath  BedroomAbvGr  KitchenAbvGr  KitchenQual  \\\n",
       "0           0.0         1         0             2             1            3   \n",
       "1           0.0         2         0             2             1            4   \n",
       "2           0.0         1         0             2             1            4   \n",
       "3           0.0         1         0             2             1            3   \n",
       "4           0.0         2         1             3             1            4   \n",
       "\n",
       "   TotRmsAbvGrd  Functional  Fireplaces  FireplaceQu  GarageType  GarageYrBlt  \\\n",
       "0             4           6           1            5           5       1939.0   \n",
       "1             5           6           0            1           1       1984.0   \n",
       "2             5           6           0            1           5       1930.0   \n",
       "3             6           6           0            1           5       1940.0   \n",
       "4             6           6           0            1           1       2001.0   \n",
       "\n",
       "   GarageFinish  GarageCars  GarageArea  GarageQual  GarageCond  PavedDrive  \\\n",
       "0             1         2.0       399.0           4           4           2   \n",
       "1             3         1.0       266.0           4           4           2   \n",
       "2             1         1.0       216.0           4           2           0   \n",
       "3             1         1.0       281.0           4           4           0   \n",
       "4             3         2.0       528.0           4           4           2   \n",
       "\n",
       "   WoodDeckSF  OpenPorchSF  EnclosedPorch  3SsnPorch  ScreenPorch  Fence  \\\n",
       "0           0            0              0          0          166      1   \n",
       "1           0          105              0          0            0      1   \n",
       "2         154            0             42         86            0      1   \n",
       "3           0            0            168          0          111      1   \n",
       "4           0           45              0          0            0      1   \n",
       "\n",
       "   MoSold  YrSold  SaleType  SaleCondition  TotalHouseSF  TotalBathroomCount  \\\n",
       "0       3    2010         9              4        1712.0                 2.0   \n",
       "1       2    2009         9              4        2098.0                 3.0   \n",
       "2      11    2007         9              4        1838.0                 1.0   \n",
       "3       5    2009         9              4        1444.0                 1.0   \n",
       "4      11    2009         9              4        2475.0                 3.5   \n",
       "\n",
       "   QualityOutdoorSF  YearAndRemodAvg  NonHouseSF  HighQualFinSF  \\\n",
       "0               166           1944.5     -6178.0         1712.0   \n",
       "1               105           1984.0     -2137.0         2098.0   \n",
       "2               282           1968.5     -4222.0         1838.0   \n",
       "3               279           1951.5     -6702.0         1444.0   \n",
       "4                45           2001.0     -5925.0         2475.0   \n",
       "\n",
       "   HouseLotRatio  FrontageLotRatio  QualityOutdoorLotRatio  \n",
       "0      21.698352          0.760456                2.103929  \n",
       "1      49.539551          0.991736                2.479339  \n",
       "2      30.330033          0.990099                4.653465  \n",
       "3      17.726492          0.982077                3.424994  \n",
       "4      29.464286          0.833333                0.535714  "
      ]
     },
     "execution_count": 239,
     "metadata": {},
     "output_type": "execute_result"
    }
   ],
   "source": [
    "\n",
    "train_wOrdinal.head()"
   ]
  },
  {
   "cell_type": "code",
   "execution_count": 259,
   "id": "f87181a1-3d85-463b-9b9a-87fb81656074",
   "metadata": {
    "tags": []
   },
   "outputs": [
    {
     "name": "stdout",
     "output_type": "stream",
     "text": [
      "\n",
      "Feature Importances:\n",
      "            Feature  Importance\n",
      "80    HighQualFinSF    0.286348\n",
      "75     TotalHouseSF    0.231843\n",
      "17      OverallQual    0.228551\n",
      "19        YearBuilt    0.048250\n",
      "78  YearAndRemodAvg    0.014079\n",
      "..              ...         ...\n",
      "68        3SsnPorch    0.000085\n",
      "39          Heating    0.000042\n",
      "45     LowQualFinSF    0.000008\n",
      "9         Utilities    0.000004\n",
      "5            Street    0.000001\n",
      "\n",
      "[84 rows x 2 columns]\n",
      "Cross-Validation Scores Rsquared: [0.90471939 0.89691385 0.91986302 0.90581684 0.87268399] \n",
      "\n",
      "Cross-Validation Scores RMSE: [21427.83985726 22188.07089472 18891.54619576 20505.55579038\n",
      " 22513.29133582] \n",
      "\n",
      "Mean R^2: 0.8999994192149027 \n",
      "\n",
      "Standard Deviation R^2: 0.015532782416819753 \n",
      "\n",
      "Mean RMSE: 21105.260814788413\n"
     ]
    }
   ],
   "source": [
    "#name the model for our score tracker\n",
    "model_name = 'randomForest'\n",
    "train_wOrdinal = train_wOrdinal.drop('PID', axis=1)\n",
    "\n",
    "\n",
    "#the features will be X (independent variables)\n",
    "X = train_wOrdinal.drop('SalePrice', axis=1)\n",
    "X_array = X.values\n",
    "#the target (dependent variable) will be y\n",
    "y = train_wOrdinal['SalePrice']\n",
    "y_array = y.values\n",
    "\n",
    "#Split your training and testing sets of data\n",
    "X_train, X_test, y_train, y_test = train_test_split(X, y, test_size=0.2, random_state=42)\n",
    "\n",
    "# Create a Random Forest Regressor\n",
    "rf_model = RandomForestRegressor(n_estimators=100, random_state=42)  # You can adjust n_estimators as needed\n",
    "\n",
    "# Train the model on the training set\n",
    "rf_model.fit(X_train, y_train)\n",
    "\n",
    "# Make predictions on the test set\n",
    "rf_y_pred = rf_model.predict(X_test)\n",
    "\n",
    "# Evaluate the Random Forest model\n",
    "rf_r2 = r2_score(y_test, rf_y_pred)\n",
    "# print(f'R-squared on the test set: {rf_r2}')\n",
    "\n",
    "rf_mse = mean_squared_error(y_test, rf_y_pred)\n",
    "# print(f'Mean Squared Error on the test set: {rf_mse}')\n",
    "\n",
    "# Root Mean Squared Error (RMSE) on the test set\n",
    "rf_rmse = mean_squared_error(y_test, rf_y_pred, squared=False)\n",
    "# print(\"Root Mean Squared Error (RMSE) on the test set:\", rf_rmse)\n",
    "\n",
    "# Display feature importances\n",
    "feature_importances = pd.DataFrame({'Feature': X.columns, 'Importance': rf_model.feature_importances_})\n",
    "feature_importances = feature_importances.sort_values(by='Importance', ascending=False)\n",
    "print('\\nFeature Importances:')\n",
    "print(feature_importances)\n",
    "# feat_importances = pd.Series(rf_model.feature_importances_, index=X.columns)\n",
    "# feat_importances.nlargest(20).plot(kind='barh')\n",
    "\n",
    "# Create a KFold object\n",
    "kf = KFold(n_splits=5, shuffle=True, random_state=42)\n",
    "\n",
    "# Perform cross-validation\n",
    "cv_scores = cross_val_score(rf_model, X, y, cv=kf, scoring='r2')\n",
    "# You can replace 'r2' with other scoring metrics like 'neg_mean_squared_error', etc.\n",
    "\n",
    "def rmse_scorer(y_true, y_pred):\n",
    "        mse = mean_squared_error(y_true, y_pred)\n",
    "        rmse = np.sqrt(mse)\n",
    "        return rmse\n",
    "    \n",
    "    \n",
    "# Define the scoring function using neg_mean_squared_error\n",
    "scorer = make_scorer(rmse_scorer)\n",
    "# Use cross_val_score with the defined scorer\n",
    "rmse_scores = cross_val_score(rf_model, X, y, cv=kf, scoring=scorer)\n",
    "\n",
    "\n",
    "\n",
    "# Display the cross-validation scores\n",
    "print(\"Cross-Validation Scores Rsquared:\", cv_scores, '\\n')\n",
    "print(\"Cross-Validation Scores RMSE:\", rmse_scores, '\\n')\n",
    "\n",
    "# Print the mean and standard deviation of the scores\n",
    "print(f\"Mean R^2: {cv_scores.mean()}\", '\\n')\n",
    "print(f\"Standard Deviation R^2: {cv_scores.std()}\", '\\n')\n",
    "print(f\"Mean RMSE: {rmse_scores.mean()}\")\n",
    "\n",
    "record = {'Model': model_name, 'r2_5kf_mean': cv_scores.mean(), 'rmse_5kf_mean': rmse_scores.mean()}\n",
    "masterScores = masterScores.append(record, ignore_index=True)"
   ]
  },
  {
   "cell_type": "code",
   "execution_count": 267,
   "id": "240e72ef-bdf0-4c77-b72b-690fd54b2283",
   "metadata": {
    "tags": []
   },
   "outputs": [
    {
     "data": {
      "image/png": "[encoded data removed]",
      "text/plain": [
       "<Figure size 800x950 with 2 Axes>"
      ]
     },
     "metadata": {},
     "output_type": "display_data"
    }
   ],
   "source": [
    "import shap\n",
    "\n",
    "# Use the SHAP explainer\n",
    "explainer = shap.Explainer(rf_model)\n",
    "\n",
    "# Calculate SHAP values for a subset of the data (e.g., test set)\n",
    "shap_values = explainer.shap_values(X_test)\n",
    "\n",
    "# Plot summary plot\n",
    "shap.summary_plot(shap_values, X_test)"
   ]
  },
  {
   "cell_type": "code",
   "execution_count": 264,
   "id": "009c6e1f-f83e-4ae1-a2a4-7b0e4b7e76fc",
   "metadata": {
    "tags": []
   },
   "outputs": [
    {
     "data": {
      "text/html": [
       "<div>\n",
       "<style scoped>\n",
       "    .dataframe tbody tr th:only-of-type {\n",
       "        vertical-align: middle;\n",
       "    }\n",
       "\n",
       "    .dataframe tbody tr th {\n",
       "        vertical-align: top;\n",
       "    }\n",
       "\n",
       "    .dataframe thead th {\n",
       "        text-align: right;\n",
       "    }\n",
       "</style>\n",
       "<table border=\"1\" class=\"dataframe\">\n",
       "  <thead>\n",
       "    <tr style=\"text-align: right;\">\n",
       "      <th></th>\n",
       "      <th>Model</th>\n",
       "      <th>r2_5kf_mean</th>\n",
       "      <th>rmse_5kf_mean</th>\n",
       "    </tr>\n",
       "  </thead>\n",
       "  <tbody>\n",
       "    <tr>\n",
       "      <th>1</th>\n",
       "      <td>randomForest</td>\n",
       "      <td>0.899999</td>\n",
       "      <td>21105.260815</td>\n",
       "    </tr>\n",
       "  </tbody>\n",
       "</table>\n",
       "</div>"
      ],
      "text/plain": [
       "          Model  r2_5kf_mean  rmse_5kf_mean\n",
       "1  randomForest     0.899999   21105.260815"
      ]
     },
     "execution_count": 264,
     "metadata": {},
     "output_type": "execute_result"
    }
   ],
   "source": [
    "masterScores"
   ]
  },
  {
   "cell_type": "code",
   "execution_count": 266,
   "id": "0619277f-7d43-4885-abd2-0065ef59563e",
   "metadata": {
    "tags": []
   },
   "outputs": [
    {
     "name": "stdout",
     "output_type": "stream",
     "text": [
      "DataFrame exported to 'masterScores_randomForest.csv' in the same working directory.\n"
     ]
    }
   ],
   "source": [
    "output_file = 'masterScores_randomForest.csv'\n",
    "\n",
    "masterScores.to_csv(output_file, index=False, mode='w')\n",
    "\n",
    "print(f\"DataFrame exported to '{output_file}' in the same working directory.\")"
   ]
  },
  {
   "cell_type": "code",
   "execution_count": 241,
   "id": "aeb5e316-4858-4089-8841-949dba2555a5",
   "metadata": {},
   "outputs": [],
   "source": [
    "def objective(trial):\n",
    "    n_estimators = trial.suggest_int('n_estimators', 100, 1000)\n",
    "    max_depth = trial.suggest_int('max_depth', 10, 50)\n",
    "    min_samples_split = trial.suggest_int('min_samples_split', 2, 32)\n",
    "    min_samples_leaf = trial.suggest_int('min_samples_leaf', 1, 32)\n",
    "    \n",
    "    model = RandomForestRegressor(n_estimators = n_estimators, \n",
    "                                  max_depth = max_depth, \n",
    "                                  min_samples_split = min_samples_split, \n",
    "                                  min_samples_leaf = min_samples_leaf)\n",
    "    \n",
    "    score = cross_val_score(model, X_train, y_train, cv = 5, scoring = 'neg_mean_squared_error', n_jobs = -1).mean()\n",
    "    \n",
    "    return score"
   ]
  },
  {
   "cell_type": "code",
   "execution_count": 242,
   "id": "53b13e1f-0429-4079-bb2e-8039fd316c0e",
   "metadata": {
    "tags": []
   },
   "outputs": [
    {
     "name": "stderr",
     "output_type": "stream",
     "text": [
      "[I 2024-01-26 13:22:22,370] A new study created in memory with name: no-name-a10d6656-d9fb-445a-8aad-fce0db5d0f21\n"
     ]
    }
   ],
   "source": [
    "# study = optuna.create_study(direction = 'maximize', sampler = optuna.samplers.RandomSampler(seed=42))"
   ]
  },
  {
   "cell_type": "code",
   "execution_count": 243,
   "id": "2a746a7b-9a2e-4958-a953-a6b692f4ed42",
   "metadata": {
    "tags": []
   },
   "outputs": [],
   "source": [
    "#study.optimize(objective, n_trials = 200)"
   ]
  },
  {
   "cell_type": "code",
   "execution_count": 244,
   "id": "98683db0-076c-46a1-acfa-e4c285453fd0",
   "metadata": {
    "tags": []
   },
   "outputs": [
    {
     "ename": "ValueError",
     "evalue": "No trials are completed yet.",
     "output_type": "error",
     "traceback": [
      "\u001b[0;31m---------------------------------------------------------------------------\u001b[0m",
      "\u001b[0;31mValueError\u001b[0m                                Traceback (most recent call last)",
      "Cell \u001b[0;32mIn[244], line 1\u001b[0m\n\u001b[0;32m----> 1\u001b[0m study\u001b[38;5;241m.\u001b[39mbest_params\n",
      "File \u001b[0;32m~/anaconda3/lib/python3.11/site-packages/optuna/study/study.py:114\u001b[0m, in \u001b[0;36mStudy.best_params\u001b[0;34m(self)\u001b[0m\n\u001b[1;32m    102\u001b[0m \u001b[38;5;129m@property\u001b[39m\n\u001b[1;32m    103\u001b[0m \u001b[38;5;28;01mdef\u001b[39;00m \u001b[38;5;21mbest_params\u001b[39m(\u001b[38;5;28mself\u001b[39m) \u001b[38;5;241m-\u001b[39m\u001b[38;5;241m>\u001b[39m \u001b[38;5;28mdict\u001b[39m[\u001b[38;5;28mstr\u001b[39m, Any]:\n\u001b[1;32m    104\u001b[0m \u001b[38;5;250m    \u001b[39m\u001b[38;5;124;03m\"\"\"Return parameters of the best trial in the study.\u001b[39;00m\n\u001b[1;32m    105\u001b[0m \n\u001b[1;32m    106\u001b[0m \u001b[38;5;124;03m    .. note::\u001b[39;00m\n\u001b[0;32m   (...)\u001b[0m\n\u001b[1;32m    111\u001b[0m \n\u001b[1;32m    112\u001b[0m \u001b[38;5;124;03m    \"\"\"\u001b[39;00m\n\u001b[0;32m--> 114\u001b[0m     \u001b[38;5;28;01mreturn\u001b[39;00m \u001b[38;5;28mself\u001b[39m\u001b[38;5;241m.\u001b[39mbest_trial\u001b[38;5;241m.\u001b[39mparams\n",
      "File \u001b[0;32m~/anaconda3/lib/python3.11/site-packages/optuna/study/study.py:157\u001b[0m, in \u001b[0;36mStudy.best_trial\u001b[0;34m(self)\u001b[0m\n\u001b[1;32m    151\u001b[0m \u001b[38;5;28;01mif\u001b[39;00m \u001b[38;5;28mself\u001b[39m\u001b[38;5;241m.\u001b[39m_is_multi_objective():\n\u001b[1;32m    152\u001b[0m     \u001b[38;5;28;01mraise\u001b[39;00m \u001b[38;5;167;01mRuntimeError\u001b[39;00m(\n\u001b[1;32m    153\u001b[0m         \u001b[38;5;124m\"\u001b[39m\u001b[38;5;124mA single best trial cannot be retrieved from a multi-objective study. Consider \u001b[39m\u001b[38;5;124m\"\u001b[39m\n\u001b[1;32m    154\u001b[0m         \u001b[38;5;124m\"\u001b[39m\u001b[38;5;124musing Study.best_trials to retrieve a list containing the best trials.\u001b[39m\u001b[38;5;124m\"\u001b[39m\n\u001b[1;32m    155\u001b[0m     )\n\u001b[0;32m--> 157\u001b[0m \u001b[38;5;28;01mreturn\u001b[39;00m copy\u001b[38;5;241m.\u001b[39mdeepcopy(\u001b[38;5;28mself\u001b[39m\u001b[38;5;241m.\u001b[39m_storage\u001b[38;5;241m.\u001b[39mget_best_trial(\u001b[38;5;28mself\u001b[39m\u001b[38;5;241m.\u001b[39m_study_id))\n",
      "File \u001b[0;32m~/anaconda3/lib/python3.11/site-packages/optuna/storages/_in_memory.py:234\u001b[0m, in \u001b[0;36mInMemoryStorage.get_best_trial\u001b[0;34m(self, study_id)\u001b[0m\n\u001b[1;32m    231\u001b[0m best_trial_id \u001b[38;5;241m=\u001b[39m \u001b[38;5;28mself\u001b[39m\u001b[38;5;241m.\u001b[39m_studies[study_id]\u001b[38;5;241m.\u001b[39mbest_trial_id\n\u001b[1;32m    233\u001b[0m \u001b[38;5;28;01mif\u001b[39;00m best_trial_id \u001b[38;5;129;01mis\u001b[39;00m \u001b[38;5;28;01mNone\u001b[39;00m:\n\u001b[0;32m--> 234\u001b[0m     \u001b[38;5;28;01mraise\u001b[39;00m \u001b[38;5;167;01mValueError\u001b[39;00m(\u001b[38;5;124m\"\u001b[39m\u001b[38;5;124mNo trials are completed yet.\u001b[39m\u001b[38;5;124m\"\u001b[39m)\n\u001b[1;32m    235\u001b[0m \u001b[38;5;28;01melif\u001b[39;00m \u001b[38;5;28mlen\u001b[39m(\u001b[38;5;28mself\u001b[39m\u001b[38;5;241m.\u001b[39m_studies[study_id]\u001b[38;5;241m.\u001b[39mdirections) \u001b[38;5;241m>\u001b[39m \u001b[38;5;241m1\u001b[39m:\n\u001b[1;32m    236\u001b[0m     \u001b[38;5;28;01mraise\u001b[39;00m \u001b[38;5;167;01mRuntimeError\u001b[39;00m(\n\u001b[1;32m    237\u001b[0m         \u001b[38;5;124m\"\u001b[39m\u001b[38;5;124mBest trial can be obtained only for single-objective optimization.\u001b[39m\u001b[38;5;124m\"\u001b[39m\n\u001b[1;32m    238\u001b[0m     )\n",
      "\u001b[0;31mValueError\u001b[0m: No trials are completed yet."
     ]
    }
   ],
   "source": [
    "# study.best_params"
   ]
  },
  {
   "cell_type": "code",
   "execution_count": null,
   "id": "4df19b4b-89d4-40b4-9458-841a8b0cdbc3",
   "metadata": {
    "tags": []
   },
   "outputs": [],
   "source": [
    "# best_params = study.best_params"
   ]
  },
  {
   "cell_type": "code",
   "execution_count": null,
   "id": "4866e69d-f1f9-481f-934a-0560e1dd9af2",
   "metadata": {
    "tags": []
   },
   "outputs": [],
   "source": [
    "# optuna.visualization.plot_optimization_history(study)"
   ]
  },
  {
   "cell_type": "code",
   "execution_count": null,
   "id": "0966a25e-0ccb-4a4f-883f-0af9a069f657",
   "metadata": {
    "tags": []
   },
   "outputs": [],
   "source": [
    "# optuna.visualization.plot_parallel_coordinate(study)"
   ]
  },
  {
   "cell_type": "code",
   "execution_count": null,
   "id": "d94fc0b1-ccf3-4ccd-ac38-f9fcaa3e3ac5",
   "metadata": {
    "tags": []
   },
   "outputs": [],
   "source": [
    "# optuna.visualization.plot_slice(study,params=['n_estimators', 'max_depth', 'min_samples_split', 'min_samples_leaf'])"
   ]
  },
  {
   "cell_type": "code",
   "execution_count": null,
   "id": "cd37424c-ff01-496c-9c77-e367855f7dd0",
   "metadata": {
    "tags": []
   },
   "outputs": [],
   "source": [
    "# optuna.visualization.plot_param_importances(study)"
   ]
  },
  {
   "cell_type": "code",
   "execution_count": null,
   "id": "9fd829fc-26b9-48ba-adfb-b037df76a279",
   "metadata": {
    "tags": []
   },
   "outputs": [],
   "source": [
    "# best_n_estimators = best_params['n_estimators']\n",
    "# best_max_depth = best_params['max_depth']\n",
    "# best_min_samples_split = best_params['min_samples_split']\n",
    "# best_min_samples_leaf = best_params['min_samples_leaf']\n",
    "\n"
   ]
  },
  {
   "cell_type": "code",
   "execution_count": null,
   "id": "ea9fdd4c-751e-43d5-846c-8ebd2950b9a4",
   "metadata": {
    "tags": []
   },
   "outputs": [],
   "source": [
    "# best_model = RandomForestRegressor(n_estimators=best_n_estimators,\n",
    "#                                    max_depth=best_max_depth,\n",
    "#                                    min_samples_split=best_min_samples_split,\n",
    "#                                    min_samples_leaf=best_min_samples_leaf)"
   ]
  },
  {
   "cell_type": "code",
   "execution_count": null,
   "id": "69fe6f52-85b1-4a5d-92ae-7da56bc799f9",
   "metadata": {
    "tags": []
   },
   "outputs": [],
   "source": [
    "# best_model.fit(X_train,y_train)"
   ]
  },
  {
   "cell_type": "code",
   "execution_count": null,
   "id": "767911a0-7d88-43dd-ac14-761fef100e4d",
   "metadata": {
    "tags": []
   },
   "outputs": [],
   "source": [
    "# y_pred = best_model.predict(X_test)"
   ]
  },
  {
   "cell_type": "code",
   "execution_count": null,
   "id": "97464381-5973-4986-8afe-dabb449a5736",
   "metadata": {
    "tags": []
   },
   "outputs": [],
   "source": [
    "# mean_squared_error(y_test, y_pred, squared = False)"
   ]
  },
  {
   "cell_type": "code",
   "execution_count": null,
   "id": "179954bd-f792-453e-ac1b-678a6c7058e0",
   "metadata": {
    "tags": []
   },
   "outputs": [],
   "source": [
    "# r2_score(y_test, y_pred)"
   ]
  }
 ],
 "metadata": {
  "kernelspec": {
   "display_name": "Python 3 (ipykernel)",
   "language": "python",
   "name": "python3"
  },
  "language_info": {
   "codemirror_mode": {
    "name": "ipython",
    "version": 3
   },
   "file_extension": ".py",
   "mimetype": "text/x-python",
   "name": "python",
   "nbconvert_exporter": "python",
   "pygments_lexer": "ipython3",
   "version": "3.11.3"
  }
 },
 "nbformat": 4,
 "nbformat_minor": 5
}
