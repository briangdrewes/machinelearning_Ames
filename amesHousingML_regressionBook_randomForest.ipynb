{
 "cells": [
  {
   "cell_type": "code",
   "execution_count": 8,
   "id": "8af367a4-67f2-4fcd-a1b1-502b8fb19ccf",
   "metadata": {
    "tags": []
   },
   "outputs": [],
   "source": [
    "%matplotlib inline\n",
    "\n",
    "import numpy as np\n",
    "import pandas as pd\n",
    "import matplotlib.pyplot as plt\n",
    "import seaborn as sns\n",
    "\n",
    "import plotly.graph_objects as go\n",
    "import plotly.io as pio\n",
    "import plotly.express as px\n",
    "\n",
    "from statsmodels.stats.outliers_influence import variance_inflation_factor\n",
    "from statsmodels.tools.tools import add_constant\n",
    "import statsmodels.api as sm\n",
    "from statsmodels.graphics.gofplots import qqplot\n",
    "\n",
    "\n",
    "from sklearn.metrics import r2_score\n",
    "from sklearn.linear_model import LinearRegression\n",
    "from sklearn.metrics import mean_squared_error\n",
    "from sklearn.preprocessing import OneHotEncoder\n",
    "from sklearn.model_selection import train_test_split\n",
    "from sklearn.ensemble import RandomForestRegressor\n",
    "from sklearn.model_selection import cross_val_score, KFold\n",
    "from sklearn.linear_model import Lasso\n",
    "from sklearn.preprocessing import StandardScaler\n",
    "from sklearn.linear_model import Ridge\n",
    "from sklearn.linear_model import ElasticNet\n",
    "\n",
    "import warnings\n",
    "pd.set_option('display.max_columns', None)\n",
    "warnings.simplefilter(action='ignore', category=FutureWarning)\n",
    "warnings.simplefilter('ignore', pd.errors.SettingWithCopyWarning)\n",
    "warnings.simplefilter(action=\"ignore\", category=pd.errors.PerformanceWarning)\n"
   ]
  },
  {
   "cell_type": "code",
   "execution_count": 9,
   "id": "1910d93f-ee03-481c-af08-cc1cb9c81bcf",
   "metadata": {},
   "outputs": [],
   "source": [
    "train_wOrdinal = pd.read_csv('~/Documents/AmesHousingML/clean_data_ordinal.csv') \n",
    "train_originalCleaned = pd.read_csv('~/Documents/AmesHousingML/clean_data_original.csv') \n",
    "train_wOnlyDummies = pd.read_csv('~/Documents/AmesHousingML/clean_data_dummified.csv') "
   ]
  },
  {
   "cell_type": "code",
   "execution_count": 10,
   "id": "acf258a5-dec5-42cd-9881-60cb09d7dd72",
   "metadata": {
    "tags": []
   },
   "outputs": [
    {
     "name": "stdout",
     "output_type": "stream",
     "text": [
      "(2576, 86)\n",
      "(2576, 266)\n",
      "(2576, 217)\n"
     ]
    }
   ],
   "source": [
    "print(train_originalCleaned.shape)\n",
    "print(train_wOnlyDummies.shape)\n",
    "print(train_wOrdinal.shape)"
   ]
  },
  {
   "cell_type": "markdown",
   "id": "50bf75f6-9ac0-4e46-9b95-fa6f1341da48",
   "metadata": {},
   "source": [
    "## Finding & Dealing with Outliers"
   ]
  },
  {
   "cell_type": "code",
   "execution_count": 11,
   "id": "1930a518-503a-4bac-a04c-50934bb1dcdd",
   "metadata": {
    "tags": []
   },
   "outputs": [],
   "source": [
    "outlier_threshold = 5"
   ]
  },
  {
   "cell_type": "code",
   "execution_count": 12,
   "id": "d78fe0f9-6003-4b6b-a380-e766ff20247a",
   "metadata": {
    "tags": []
   },
   "outputs": [],
   "source": [
    "Q1 = train_wOrdinal['SalePrice'].quantile(.25)\n",
    "Q3 = train_wOrdinal['SalePrice'].quantile(.75)\n",
    "IQR = Q3 - Q1\n",
    "new_bounds = Q3 + outlier_threshold * IQR"
   ]
  },
  {
   "cell_type": "code",
   "execution_count": 13,
   "id": "0f57ef26-9af8-463e-bfce-66c0d02075e0",
   "metadata": {
    "tags": []
   },
   "outputs": [],
   "source": [
    "before_outlier_total = train_wOrdinal.count()[1]\n",
    "train_wOrdinal.drop(train_wOrdinal[train_wOrdinal['SalePrice'] > new_bounds].index, axis=0, inplace = True)\n",
    "post_outlier_total = train_wOrdinal.count()[1]"
   ]
  },
  {
   "cell_type": "code",
   "execution_count": 14,
   "id": "92c4ebe9-18f1-4564-a478-87a00cae506a",
   "metadata": {
    "tags": []
   },
   "outputs": [
    {
     "data": {
      "text/plain": [
       "5"
      ]
     },
     "execution_count": 14,
     "metadata": {},
     "output_type": "execute_result"
    }
   ],
   "source": [
    "before_outlier_total - post_outlier_total"
   ]
  },
  {
   "cell_type": "code",
   "execution_count": 15,
   "id": "876b6d95-2aba-4f4a-be14-4d23d2b98f35",
   "metadata": {
    "tags": []
   },
   "outputs": [],
   "source": [
    "Q1 = train_originalCleaned['SalePrice'].quantile(.25)\n",
    "Q3 = train_originalCleaned['SalePrice'].quantile(.75)\n",
    "IQR = Q3 - Q1\n",
    "new_bounds = Q3 + outlier_threshold * IQR"
   ]
  },
  {
   "cell_type": "code",
   "execution_count": 16,
   "id": "ad6c3a22-8600-4570-b695-e7336fc5a8f7",
   "metadata": {
    "tags": []
   },
   "outputs": [],
   "source": [
    "before_outlier_total = train_originalCleaned.count()[1]\n",
    "train_originalCleaned.drop(train_originalCleaned[train_originalCleaned['SalePrice'] > new_bounds].index, axis=0, inplace = True)\n",
    "post_outlier_total = train_originalCleaned.count()[1]"
   ]
  },
  {
   "cell_type": "code",
   "execution_count": 17,
   "id": "af714fe1-2560-4687-a79b-686600dbcf91",
   "metadata": {
    "tags": []
   },
   "outputs": [
    {
     "data": {
      "text/plain": [
       "5"
      ]
     },
     "execution_count": 17,
     "metadata": {},
     "output_type": "execute_result"
    }
   ],
   "source": [
    "before_outlier_total - post_outlier_total"
   ]
  },
  {
   "cell_type": "code",
   "execution_count": 18,
   "id": "90ca370c-ee92-4125-a357-53977ff3386b",
   "metadata": {
    "tags": []
   },
   "outputs": [],
   "source": [
    "Q1 = train_wOnlyDummies['SalePrice'].quantile(.25)\n",
    "Q3 = train_wOnlyDummies['SalePrice'].quantile(.75)\n",
    "IQR = Q3 - Q1\n",
    "new_bounds = Q3 + outlier_threshold * IQR"
   ]
  },
  {
   "cell_type": "code",
   "execution_count": 19,
   "id": "6430cc76-d1b9-42e1-aad4-078ddf5d76a9",
   "metadata": {
    "tags": []
   },
   "outputs": [],
   "source": [
    "before_outlier_total = train_wOnlyDummies.count()[1]\n",
    "train_wOnlyDummies.drop(train_wOnlyDummies[train_wOnlyDummies['SalePrice'] > new_bounds].index, axis=0, inplace = True)\n",
    "post_outlier_total = train_wOnlyDummies.count()[1]"
   ]
  },
  {
   "cell_type": "code",
   "execution_count": 20,
   "id": "5796e25e-e140-4354-9d73-8d5becb45923",
   "metadata": {
    "tags": []
   },
   "outputs": [
    {
     "data": {
      "text/plain": [
       "5"
      ]
     },
     "execution_count": 20,
     "metadata": {},
     "output_type": "execute_result"
    }
   ],
   "source": [
    "before_outlier_total - post_outlier_total"
   ]
  },
  {
   "cell_type": "code",
   "execution_count": 25,
   "id": "8251f028-3cf7-421f-97cd-87ccfb9a0902",
   "metadata": {
    "tags": []
   },
   "outputs": [],
   "source": [
    "ourFrames = [train_wOrdinal, train_wOnlyDummies]"
   ]
  },
  {
   "cell_type": "code",
   "execution_count": 33,
   "id": "d935d46a-703c-4fd0-bb46-7e7c5d0a32fb",
   "metadata": {
    "tags": []
   },
   "outputs": [
    {
     "name": "stdout",
     "output_type": "stream",
     "text": [
      "R-squared on the test set: 0.9045741793721593\n",
      "Mean Squared Error on the test set: 465255035.40146095\n",
      "Root Mean Squared Error (RMSE) on the test set: 21569.77133400957\n",
      "\n",
      "Feature Importances:\n",
      "                   Feature    Importance\n",
      "5              OverallQual  3.435228e-01\n",
      "207           TotalHouseSF  2.326118e-01\n",
      "212          HighQualFinSF  2.250370e-01\n",
      "210        YearAndRemodAvg  1.871361e-02\n",
      "1                GrLivArea  1.155774e-02\n",
      "..                     ...           ...\n",
      "129          RoofMatl_Roll  1.734466e-09\n",
      "136     Exterior1st_CBlock  0.000000e+00\n",
      "202  SaleCondition_AdjLand  0.000000e+00\n",
      "156    Exterior2nd_PreCast  0.000000e+00\n",
      "108        Condition2_RRAe  0.000000e+00\n",
      "\n",
      "[216 rows x 2 columns]\n",
      "R-squared on the test set: 0.9032621576281301\n",
      "Mean Squared Error on the test set: 471651886.0541418\n",
      "Root Mean Squared Error (RMSE) on the test set: 21717.547883086198\n",
      "\n",
      "Feature Importances:\n",
      "                 Feature  Importance\n",
      "5            OverallQual    0.345135\n",
      "261        HighQualFinSF    0.259354\n",
      "256         TotalHouseSF    0.198410\n",
      "259      YearAndRemodAvg    0.020139\n",
      "1              GrLivArea    0.011125\n",
      "..                   ...         ...\n",
      "196         HeatingQC_Po    0.000000\n",
      "115        RoofMatl_Roll    0.000000\n",
      "142  Exterior2nd_PreCast    0.000000\n",
      "94       Condition2_RRAe    0.000000\n",
      "37      MSZoning_I (all)    0.000000\n",
      "\n",
      "[265 rows x 2 columns]\n"
     ]
    }
   ],
   "source": [
    "for frame in ourFrames:\n",
    "    #the features will be X (independent variables)\n",
    "    X = frame.drop('SalePrice', axis=1)\n",
    "    X_array = X.values\n",
    "    #the target (dependent variable) will be y\n",
    "    y = frame['SalePrice']\n",
    "    y_array = y.values\n",
    "\n",
    "    #Split your training and testing sets of data\n",
    "    X_train, X_test, y_train, y_test = train_test_split(X, y, test_size=0.2, random_state=42)\n",
    "\n",
    "    # Create a Random Forest Regressor\n",
    "    rf_model = RandomForestRegressor(n_estimators=100, random_state=42)  # You can adjust n_estimators as needed\n",
    "\n",
    "    # Train the model on the training set\n",
    "    rf_model.fit(X_train, y_train)\n",
    "\n",
    "    # Make predictions on the test set\n",
    "    rf_y_pred = rf_model.predict(X_test)\n",
    "\n",
    "    # Evaluate the Random Forest model\n",
    "    rf_r2 = r2_score(y_test, rf_y_pred)\n",
    "    print(f'R-squared on the test set: {rf_r2}')\n",
    "\n",
    "    rf_mse = mean_squared_error(y_test, rf_y_pred)\n",
    "    print(f'Mean Squared Error on the test set: {rf_mse}')\n",
    "\n",
    "    # Root Mean Squared Error (RMSE) on the test set\n",
    "    rf_rmse = mean_squared_error(y_test, rf_y_pred, squared=False)\n",
    "    print(\"Root Mean Squared Error (RMSE) on the test set:\", rf_rmse)\n",
    "\n",
    "    # Display feature importances\n",
    "    feature_importances = pd.DataFrame({'Feature': X.columns, 'Importance': rf_model.feature_importances_})\n",
    "    feature_importances = feature_importances.sort_values(by='Importance', ascending=False)\n",
    "    print('\\nFeature Importances:')\n",
    "    print(feature_importances)\n",
    "    # feat_importances = pd.Series(rf_model.feature_importances_, index=X.columns)\n",
    "    # feat_importances.nlargest(20).plot(kind='barh')"
   ]
  },
  {
   "cell_type": "code",
   "execution_count": null,
   "id": "aeb5e316-4858-4089-8841-949dba2555a5",
   "metadata": {},
   "outputs": [],
   "source": []
  }
 ],
 "metadata": {
  "kernelspec": {
   "display_name": "Python 3 (ipykernel)",
   "language": "python",
   "name": "python3"
  },
  "language_info": {
   "codemirror_mode": {
    "name": "ipython",
    "version": 3
   },
   "file_extension": ".py",
   "mimetype": "text/x-python",
   "name": "python",
   "nbconvert_exporter": "python",
   "pygments_lexer": "ipython3",
   "version": "3.11.3"
  }
 },
 "nbformat": 4,
 "nbformat_minor": 5
}
