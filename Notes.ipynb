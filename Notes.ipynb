{
 "cells": [
  {
   "cell_type": "code",
   "execution_count": 1,
   "id": "501911e9-98d3-48d5-b29d-a2384d7f2166",
   "metadata": {
    "tags": []
   },
   "outputs": [],
   "source": [
    "851 850"
   ]
  },
  {
   "cell_type": "code",
   "execution_count": 3,
   "id": "f64d12cd-7dc5-4775-9fe8-8bbe37500262",
   "metadata": {
    "tags": []
   },
   "outputs": [
    {
     "ename": "SyntaxError",
     "evalue": "incomplete input (410153478.py, line 1)",
     "output_type": "error",
     "traceback": [
      "\u001b[0;36m  Cell \u001b[0;32mIn[3], line 1\u001b[0;36m\u001b[0m\n\u001b[0;31m    \\\u001b[0m\n\u001b[0m     ^\u001b[0m\n\u001b[0;31mSyntaxError\u001b[0m\u001b[0;31m:\u001b[0m incomplete input\n"
     ]
    }
   ],
   "source": [
    "'Exterior1st_VinylSd', 'Foundation_PConc', 'GarageFinish_Unf', 'KitchenQual_Gd',"
   ]
  },
  {
   "cell_type": "markdown",
   "id": "f040c58e-8c49-4f21-8960-57174ecc03f6",
   "metadata": {},
   "source": [
    "My house is 50 sqft\n",
    "my lot is 100 sqft"
   ]
  },
  {
   "cell_type": "code",
   "execution_count": 4,
   "id": "26c209ae-2cc5-4e7e-ba8b-c11b7c2a38fd",
   "metadata": {
    "tags": []
   },
   "outputs": [],
   "source": [
    "house = 50\n",
    "lot = 100"
   ]
  },
  {
   "cell_type": "code",
   "execution_count": 5,
   "id": "372cf5bc-1c9e-49da-88d6-462fa4866bbd",
   "metadata": {
    "tags": []
   },
   "outputs": [
    {
     "data": {
      "text/plain": [
       "0.5"
      ]
     },
     "execution_count": 5,
     "metadata": {},
     "output_type": "execute_result"
    }
   ],
   "source": [
    "house / lot "
   ]
  },
  {
   "cell_type": "code",
   "execution_count": 6,
   "id": "805b6cba-a848-4548-a955-61a7c3100aaf",
   "metadata": {
    "tags": []
   },
   "outputs": [
    {
     "ename": "NameError",
     "evalue": "name 'go' is not defined",
     "output_type": "error",
     "traceback": [
      "\u001b[0;31m---------------------------------------------------------------------------\u001b[0m",
      "\u001b[0;31mNameError\u001b[0m                                 Traceback (most recent call last)",
      "Cell \u001b[0;32mIn[6], line 2\u001b[0m\n\u001b[1;32m      1\u001b[0m \u001b[38;5;66;03m# Create a scatter plot with Plotly\u001b[39;00m\n\u001b[0;32m----> 2\u001b[0m fig \u001b[38;5;241m=\u001b[39m go\u001b[38;5;241m.\u001b[39mFigure()\n\u001b[1;32m      4\u001b[0m \u001b[38;5;66;03m# Add a scatter plot for actual vs. predicted values\u001b[39;00m\n\u001b[1;32m      5\u001b[0m fig\u001b[38;5;241m.\u001b[39madd_trace(go\u001b[38;5;241m.\u001b[39mScatter(x\u001b[38;5;241m=\u001b[39my_test, y\u001b[38;5;241m=\u001b[39my_pred, mode\u001b[38;5;241m=\u001b[39m\u001b[38;5;124m'\u001b[39m\u001b[38;5;124mmarkers\u001b[39m\u001b[38;5;124m'\u001b[39m, marker\u001b[38;5;241m=\u001b[39m\u001b[38;5;28mdict\u001b[39m(color\u001b[38;5;241m=\u001b[39m\u001b[38;5;124m'\u001b[39m\u001b[38;5;124mblue\u001b[39m\u001b[38;5;124m'\u001b[39m), \n\u001b[1;32m      6\u001b[0m                          name\u001b[38;5;241m=\u001b[39m\u001b[38;5;124m'\u001b[39m\u001b[38;5;124mActual vs. Predicted\u001b[39m\u001b[38;5;124m'\u001b[39m))\n",
      "\u001b[0;31mNameError\u001b[0m: name 'go' is not defined"
     ]
    }
   ],
   "source": [
    "# Create a scatter plot with Plotly\n",
    "fig = go.Figure()\n",
    "\n",
    "# Add a scatter plot for actual vs. predicted values\n",
    "fig.add_trace(go.Scatter(x=y, y=predictions, mode='markers', marker=dict(color='blue'), \n",
    "                         name='Actual vs. Predicted'))\n",
    "# Add a diagonal line for perfect predictions\n",
    "fig.add_shape(type=\"line\", x0=min(y), x1=max(y), y0=min(y), y1=max(y),\n",
    "              line=dict(color=\"red\", width=3, dash='dash'),\n",
    "              name=\"Perfect Predictions\")\n",
    "\n",
    "# Update layout and axis labels\n",
    "fig.update_layout(title=\"Actual vs. Predicted Values for Linear Regression Model\",\n",
    "                  xaxis_title=\"Actual Values\",\n",
    "                  yaxis_title=\"Predicted Values\")\n",
    "\n",
    "# Show the plot\n",
    "fig.show()\n",
    "\n",
    "\n",
    "# Plotting residuals\n",
    "residuals = y - predictions\n",
    "fig2 = go.Figure()\n",
    "\n",
    "# Add a scatter plot for actual values and residuals\n",
    "fig2.add_trace(go.Scatter(x=y, y=residuals, mode='markers', marker=dict(color='blue'), \n",
    "                         name='Residuals'))\n",
    "\n",
    "# Add a horizontal line at y=0 for reference\n",
    "fig2.add_shape(type=\"line\", x0=min(y), x1=max(y), y0=0, y1=0,\n",
    "              line=dict(color=\"red\", width=3, dash='dash'),\n",
    "              name=\"Zero Residuals Line\")\n",
    "\n",
    "\n",
    "fig2.update_layout(title=\"Residuals Plot for Gradient Boosting Regressor\",\n",
    "                  xaxis_title=\"Actual Values\",\n",
    "                  yaxis_title=\"Residuals\")\n",
    "\n",
    "fig2.show()\n",
    "\n",
    "\n",
    "# Using statsmodels to check p-values\n",
    "print(model_sm.summary())\n",
    "\n",
    "print('\\n')\n",
    "\n",
    "# Mean Squared Error (MSE)\n",
    "mse = mean_squared_error(y, predictions)\n",
    "print(\"Mean Squared Error (MSE):\", mse)\n",
    "\n",
    "# Root Mean Squared Error (RMSE)\n",
    "rmse = mean_squared_error(y, predictions, squared=False)\n",
    "print(\"Root Mean Squared Error (RMSE):\", rmse)\n",
    "\n",
    "print('\\n')\n",
    "\n",
    "print(\"F-statistic:\", model_sm.fvalue)\n",
    "print(\"F-statistic p-value:\", model_sm.f_pvalue)"
   ]
  },
  {
   "cell_type": "code",
   "execution_count": null,
   "id": "9ce7b2fd-1380-4a09-b32f-cda976511ef6",
   "metadata": {},
   "outputs": [],
   "source": [
    "'BsmtFinType1_GLQ', 'BsmtFinType1_GLQ',"
   ]
  },
  {
   "cell_type": "code",
   "execution_count": 7,
   "id": "9fab121b-59ab-4e9d-aa63-3c06eec1c317",
   "metadata": {
    "tags": []
   },
   "outputs": [
    {
     "data": {
      "text/plain": [
       "('GarageType_Attchd', 'GarageType_NoGarage', 'PavedDrive_Y')"
      ]
     },
     "execution_count": 7,
     "metadata": {},
     "output_type": "execute_result"
    }
   ],
   "source": [
    "'PID', 'MSZoning_RL', 'WoodDeckSF', 'TotRmsAbvGrd',\n",
    "'Neighborhood_OldTown', 'MasVnrType_BrkFace', 'Electrical_SBrkr',\n",
    "'GarageType_Attchd', 'GarageType_NoGarage', 'PavedDrive_Y',\n",
    "\n",
    "\n",
    "\n",
    "b\n",
    "\n",
    "'\n",
    "\n",
    "\n"
   ]
  },
  {
   "cell_type": "code",
   "execution_count": null,
   "id": "57b400a3-af0c-4f68-a7d5-9bf8640fc294",
   "metadata": {},
   "outputs": [],
   "source": [
    "'BsmtQual_NoBsmt', 'BsmtCond_NoBsmt', 'BsmtFinType1_NoBsmt', "
   ]
  },
  {
   "cell_type": "code",
   "execution_count": null,
   "id": "e135820f-6037-4f35-8fd5-3566a049a204",
   "metadata": {},
   "outputs": [],
   "source": [
    "'BsmtQual_TA', 'BsmtExposure_NoBsmt'"
   ]
  },
  {
   "cell_type": "code",
   "execution_count": null,
   "id": "4e619bb9-1ff8-4291-baf2-2d99042099b7",
   "metadata": {},
   "outputs": [],
   "source": [
    "'Exterior1st_MetalSd', 'Neighborhood_IDOTRR', 'LotShape_Reg', 'BsmtFinSF1',"
   ]
  },
  {
   "cell_type": "code",
   "execution_count": null,
   "id": "66f5d21b-dd39-4d46-97f4-031dccc8e956",
   "metadata": {},
   "outputs": [],
   "source": [
    "'BsmtQual_Fa', 'GarageCond_Fa', 'Fence_MnPrv',"
   ]
  },
  {
   "cell_type": "code",
   "execution_count": null,
   "id": "1e3165f2-3027-4978-83af-afb8e53a0576",
   "metadata": {},
   "outputs": [],
   "source": [
    "'Fence_NoFence', 'FireplaceQu_TA', "
   ]
  },
  {
   "cell_type": "code",
   "execution_count": null,
   "id": "bb5a9d55-cd62-41a8-a9e2-a3769e2c1820",
   "metadata": {},
   "outputs": [],
   "source": [
    "'EnclosedPorch', 'Alley_NoAlley', 'LotShape_IR2',\n",
    "'LotConfig_CulDSac', 'Neighborhood_BrDale', 'Neighborhood_MeadowV',\n",
    "'Neighborhood_Sawyer', 'Neighborhood_Timber', 'Neighborhood_Veenker',\n",
    "'Condition1_Feedr', 'Exterior2nd_MetalSd', 'ExterQual_Fa', \n",
    "'ExterCond_TA', 'Foundation_CBlock', 'BsmtFinType1_BLQ', \n",
    "'CentralAir_Y', 'Electrical_FuseF', 'GarageType_BuiltIn',\n",
    "'GarageCond_TA', "
   ]
  },
  {
   "cell_type": "code",
   "execution_count": null,
   "id": "64a67c72-4878-4d68-878d-3abe65f6c18e",
   "metadata": {},
   "outputs": [],
   "source": [
    "'BsmtCond_Fa', 'GarageQual_Fa',"
   ]
  },
  {
   "cell_type": "code",
   "execution_count": null,
   "id": "dc12b488-c4c8-46d9-be23-3233399e3dcf",
   "metadata": {},
   "outputs": [],
   "source": [
    "'BldgType_2fmCon', 'BldgType_Twnhs',"
   ]
  },
  {
   "cell_type": "code",
   "execution_count": null,
   "id": "88105310-459d-4a3f-9715-f1f7360f394c",
   "metadata": {},
   "outputs": [],
   "source": [
    "'HeatingQC_Gd', 'SaleType_WD',"
   ]
  },
  {
   "cell_type": "code",
   "execution_count": null,
   "id": "a376a03a-402d-4acd-bde5-57e8b4a2922d",
   "metadata": {},
   "outputs": [],
   "source": [
    "'MSZoning_C (all)', 'Condition1_PosN', 'ExterCond_Fa', 'BsmtCond_TA',\n",
    "'HeatingQC_Fa', 'SaleType_WD',"
   ]
  },
  {
   "cell_type": "code",
   "execution_count": null,
   "id": "951f7ebd-06f2-4bd9-9859-21ba9cdfbfd7",
   "metadata": {},
   "outputs": [],
   "source": [
    "'MSZoning_RH', 'KitchenAbvGr', 'LotConfig_Inside', 'LandSlope_Mod',\n",
    "'Exterior1st_CemntBd', "
   ]
  },
  {
   "cell_type": "code",
   "execution_count": null,
   "id": "a2217211-58a0-4074-a1e4-4910977db2ef",
   "metadata": {},
   "outputs": [],
   "source": [
    "'Exterior2nd_HdBoard'"
   ]
  },
  {
   "cell_type": "markdown",
   "id": "b66f8c8d-2543-44ad-aa2b-9ccda86829bb",
   "metadata": {},
   "source": [
    "Ordinal Columns:\n",
    "\n",
    "'ExterQual', 'ExterCond', 'BsmtQual', 'BsmtCond',\n",
    "'BsmtExposure', 'BsmtFinType1', 'BsmtFinType1', \n",
    "'HeatingQC', 'KitchenQual', 'FireplaceQu', \n",
    "'GarageFinish', 'GarageQual', 'GarageCond',\n",
    "'PoolQC', 'Fence',\n",
    "\n",
    "\n",
    "Num of possbilities:\n",
    "\n",
    "5, 5, 6, 6, \n",
    "5, 7, 7, \n",
    "5, 5, 6,\n",
    "4, 6, 6,\n",
    "5, 5/2, \n",
    "\n",
    "\n",
    "\n",
    "4:\n",
    "\n",
    "#'GarageFinish'\n",
    "\n",
    "5:\n",
    "\n",
    "#'ExterQual', #'ExterCond', #'BsmtExposure',\n",
    "#'HeatingQC', #'KitchenQual', #not in'PoolQC', #'Fence',\n",
    "\n",
    "6:\n",
    "\n",
    "#'BsmtQual', #'BsmtCond', #'GarageQual', #'GarageCond', \n",
    "#'FireplaceQu', \n",
    "\n",
    "7:\n",
    "\n",
    "#'BsmtFinType1', #'BsmtFinType1', \n",
    "\n",
    "\n",
    "Ordinally Encoded: \n"
   ]
  },
  {
   "cell_type": "code",
   "execution_count": null,
   "id": "cc5e1987-5d93-49d3-90bc-7bbaf38b5c70",
   "metadata": {},
   "outputs": [],
   "source": [
    "44\n",
    "54\n",
    "57\n",
    "59\n",
    "66"
   ]
  },
  {
   "cell_type": "markdown",
   "id": "f1fabb9b-7fee-453c-9796-302b0b6e9028",
   "metadata": {},
   "source": [
    "remove the one hot drop column for ridge / lasso  \n",
    "tree based into xgboost  \n",
    "fix ordinal / label encoding  \n",
    "gradient boosting in scikit learn  "
   ]
  }
 ],
 "metadata": {
  "kernelspec": {
   "display_name": "Python 3 (ipykernel)",
   "language": "python",
   "name": "python3"
  },
  "language_info": {
   "codemirror_mode": {
    "name": "ipython",
    "version": 3
   },
   "file_extension": ".py",
   "mimetype": "text/x-python",
   "name": "python",
   "nbconvert_exporter": "python",
   "pygments_lexer": "ipython3",
   "version": "3.11.3"
  }
 },
 "nbformat": 4,
 "nbformat_minor": 5
}
