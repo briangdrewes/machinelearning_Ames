{
 "cells": [
  {
   "cell_type": "code",
   "execution_count": 8,
   "id": "cb6ddf8a-5957-49db-b1e8-a6c1be49878f",
   "metadata": {
    "tags": []
   },
   "outputs": [],
   "source": [
    "%matplotlib inline\n",
    "\n",
    "import numpy as np\n",
    "import pandas as pd\n",
    "import matplotlib.pyplot as plt\n",
    "import seaborn as sns\n",
    "\n",
    "import plotly.graph_objects as go\n",
    "import plotly.io as pio\n",
    "import plotly.express as px\n",
    "\n",
    "from statsmodels.stats.outliers_influence import variance_inflation_factor\n",
    "from statsmodels.tools.tools import add_constant\n",
    "import statsmodels.api as sm\n",
    "from statsmodels.graphics.gofplots import qqplot\n",
    "\n",
    "\n",
    "from sklearn.metrics import r2_score\n",
    "from sklearn.linear_model import LinearRegression\n",
    "from sklearn.metrics import mean_squared_error, make_scorer\n",
    "from sklearn.preprocessing import OneHotEncoder\n",
    "from sklearn.model_selection import train_test_split\n",
    "from sklearn.ensemble import RandomForestRegressor\n",
    "from sklearn.model_selection import cross_val_score, KFold\n",
    "from sklearn.linear_model import Lasso\n",
    "from sklearn.preprocessing import StandardScaler\n",
    "from sklearn.linear_model import Ridge\n",
    "from sklearn.linear_model import ElasticNet\n",
    "\n",
    "import optuna\n",
    "import xgboost as xgb\n",
    "\n",
    "import warnings\n",
    "pd.set_option('display.max_columns', None)\n",
    "warnings.simplefilter(action='ignore', category=FutureWarning)\n",
    "warnings.simplefilter('ignore', pd.errors.SettingWithCopyWarning)\n",
    "warnings.simplefilter(action=\"ignore\", category=pd.errors.PerformanceWarning)"
   ]
  },
  {
   "cell_type": "code",
   "execution_count": 9,
   "id": "111977db-842d-4a51-9edb-69cf40fdf0e9",
   "metadata": {
    "tags": []
   },
   "outputs": [],
   "source": [
    "scores_linear = pd.read_csv('~/Documents/AmesHousingML/masterScores_linear.csv') \n",
    "scores_lassoRidgeElastic = pd.read_csv('~/Documents/AmesHousingML/masterScores_lassoRidgeElastic.csv') \n",
    "scores_randomForest = pd.read_csv('~/Documents/AmesHousingML/masterScores_randomForest.csv') \n",
    "scores_xgboost = pd.read_csv('~/Documents/AmesHousingML/masterScores_xgboost.csv') \n",
    "scores_df = pd.concat([scores_linear, scores_lassoRidgeElastic, scores_randomForest, scores_xgboost], ignore_index=True)"
   ]
  },
  {
   "cell_type": "code",
   "execution_count": 11,
   "id": "72e4885a-b58c-4b6e-8ab1-fd1dcc6a7c96",
   "metadata": {
    "tags": []
   },
   "outputs": [
    {
     "data": {
      "text/html": [
       "<div>\n",
       "<style scoped>\n",
       "    .dataframe tbody tr th:only-of-type {\n",
       "        vertical-align: middle;\n",
       "    }\n",
       "\n",
       "    .dataframe tbody tr th {\n",
       "        vertical-align: top;\n",
       "    }\n",
       "\n",
       "    .dataframe thead th {\n",
       "        text-align: right;\n",
       "    }\n",
       "</style>\n",
       "<table border=\"1\" class=\"dataframe\">\n",
       "  <thead>\n",
       "    <tr style=\"text-align: right;\">\n",
       "      <th></th>\n",
       "      <th>Model</th>\n",
       "      <th>r2_5kf_mean</th>\n",
       "      <th>rmse_5kf_mean</th>\n",
       "    </tr>\n",
       "  </thead>\n",
       "  <tbody>\n",
       "    <tr>\n",
       "      <th>0</th>\n",
       "      <td>linear</td>\n",
       "      <td>0.905442</td>\n",
       "      <td>21771.664947</td>\n",
       "    </tr>\n",
       "    <tr>\n",
       "      <th>1</th>\n",
       "      <td>lasso</td>\n",
       "      <td>0.906500</td>\n",
       "      <td>21690.236947</td>\n",
       "    </tr>\n",
       "    <tr>\n",
       "      <th>2</th>\n",
       "      <td>ridge</td>\n",
       "      <td>0.904300</td>\n",
       "      <td>21971.935023</td>\n",
       "    </tr>\n",
       "    <tr>\n",
       "      <th>3</th>\n",
       "      <td>elastic-net</td>\n",
       "      <td>0.895977</td>\n",
       "      <td>22986.442915</td>\n",
       "    </tr>\n",
       "    <tr>\n",
       "      <th>4</th>\n",
       "      <td>randomForest</td>\n",
       "      <td>0.900705</td>\n",
       "      <td>21029.598687</td>\n",
       "    </tr>\n",
       "    <tr>\n",
       "      <th>5</th>\n",
       "      <td>xgboost</td>\n",
       "      <td>0.907785</td>\n",
       "      <td>20254.617265</td>\n",
       "    </tr>\n",
       "  </tbody>\n",
       "</table>\n",
       "</div>"
      ],
      "text/plain": [
       "          Model  r2_5kf_mean  rmse_5kf_mean\n",
       "0        linear     0.905442   21771.664947\n",
       "1         lasso     0.906500   21690.236947\n",
       "2         ridge     0.904300   21971.935023\n",
       "3   elastic-net     0.895977   22986.442915\n",
       "4  randomForest     0.900705   21029.598687\n",
       "5       xgboost     0.907785   20254.617265"
      ]
     },
     "execution_count": 11,
     "metadata": {},
     "output_type": "execute_result"
    }
   ],
   "source": [
    "scores_df"
   ]
  },
  {
   "cell_type": "code",
   "execution_count": 16,
   "id": "f474e5c5-0941-45e2-9fee-d9df8c96bfa9",
   "metadata": {
    "tags": []
   },
   "outputs": [
    {
     "data": {
      "image/png": "[encoded data removed]",
      "text/plain": [
       "<Figure size 1000x600 with 2 Axes>"
      ]
     },
     "metadata": {},
     "output_type": "display_data"
    }
   ],
   "source": [
    "# Set up the figure and axes\n",
    "fig, ax1 = plt.subplots(figsize=(10, 6))\n",
    "\n",
    "# Bar width\n",
    "bar_width = 0.35\n",
    "\n",
    "# Position of bars on X-axis\n",
    "r1 = range(len(scores_df['Model']))\n",
    "r2 = [x + bar_width for x in r1]\n",
    "\n",
    "# Plot R2 bars on the primary y-axis (left)\n",
    "ax1.bar(r1, scores_df['r2_5kf_mean'], color='b', width=bar_width, edgecolor='grey', label='R2')\n",
    "\n",
    "# Create a secondary y-axis (right) for RMSE\n",
    "ax2 = ax1.twinx()\n",
    "ax2.bar(r2, scores_df['rmse_5kf_mean'], color='r', width=bar_width, edgecolor='grey', label='RMSE')\n",
    "\n",
    "# Add labels, title, and legend\n",
    "ax1.set_xlabel('Model Type', fontweight='bold', fontsize=15)\n",
    "ax1.set_ylabel('R2', fontweight='bold', color='b', fontsize=15)\n",
    "ax2.set_ylabel('RMSE', fontweight='bold', color='r', fontsize=15)\n",
    "ax1.set_xticks([r + bar_width / 2 for r in range(len(scores_df['Model']))])\n",
    "ax1.set_xticklabels(scores_df['Model'])\n",
    "ax1.legend(loc='upper left')\n",
    "ax2.legend(loc='upper right')\n",
    "\n",
    "# Show the plot\n",
    "plt.show()"
   ]
  }
 ],
 "metadata": {
  "kernelspec": {
   "display_name": "Python 3 (ipykernel)",
   "language": "python",
   "name": "python3"
  },
  "language_info": {
   "codemirror_mode": {
    "name": "ipython",
    "version": 3
   },
   "file_extension": ".py",
   "mimetype": "text/x-python",
   "name": "python",
   "nbconvert_exporter": "python",
   "pygments_lexer": "ipython3",
   "version": "3.11.3"
  }
 },
 "nbformat": 4,
 "nbformat_minor": 5
}
